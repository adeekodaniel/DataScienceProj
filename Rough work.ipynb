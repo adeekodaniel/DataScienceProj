{
  "nbformat": 4,
  "nbformat_minor": 0,
  "metadata": {
    "colab": {
      "provenance": [],
      "toc_visible": true,
      "authorship_tag": "ABX9TyMHb3bePBep3Nyh9OSde9r9",
      "include_colab_link": true
    },
    "kernelspec": {
      "name": "python3",
      "display_name": "Python 3"
    },
    "language_info": {
      "name": "python"
    }
  },
  "cells": [
    {
      "cell_type": "markdown",
      "metadata": {
        "id": "view-in-github",
        "colab_type": "text"
      },
      "source": [
        "<a href=\"https://colab.research.google.com/github/adeekodaniel/DataScienceProj/blob/main/Rough%20work.ipynb\" target=\"_parent\"><img src=\"https://colab.research.google.com/assets/colab-badge.svg\" alt=\"Open In Colab\"/></a>"
      ]
    },
    {
      "cell_type": "markdown",
      "source": [
        "# Data preparation and preprocessing"
      ],
      "metadata": {
        "id": "54-h4BO27kUd"
      }
    },
    {
      "cell_type": "markdown",
      "source": [
        "Import the necessary packages for the project"
      ],
      "metadata": {
        "id": "mxnE_TSC7wA7"
      }
    },
    {
      "cell_type": "code",
      "execution_count": 121,
      "metadata": {
        "id": "xSelLc1Vbe5e"
      },
      "outputs": [],
      "source": [
        "import pandas as pd\n",
        "import numpy as np\n",
        "import seaborn as sns\n",
        "import matplotlib.pyplot as plt\n"
      ]
    },
    {
      "cell_type": "code",
      "source": [
        "df = pd.read_csv('https://raw.githubusercontent.com/adeekodaniel/DataScienceProj/main/adverts.csv') #I uploaded the dataset to my github account and used the link from github"
      ],
      "metadata": {
        "id": "igCx9jUobl-_"
      },
      "execution_count": 122,
      "outputs": []
    },
    {
      "cell_type": "markdown",
      "source": [
        "Used .head method to see the dataset"
      ],
      "metadata": {
        "id": "o_uQMp8vdcgw"
      }
    },
    {
      "cell_type": "code",
      "source": [
        "df.head() #to display the first 5 values of the dataset"
      ],
      "metadata": {
        "colab": {
          "base_uri": "https://localhost:8080/",
          "height": 322
        },
        "id": "mCaJTwEwcUOy",
        "outputId": "56b2c16e-b259-489e-b607-c484a3f7b50c"
      },
      "execution_count": 123,
      "outputs": [
        {
          "output_type": "execute_result",
          "data": {
            "text/plain": [
              "   public_reference   mileage reg_code standard_colour standard_make  \\\n",
              "0   202006039777689       0.0      NaN            Grey         Volvo   \n",
              "1   202007020778260  108230.0       61            Blue        Jaguar   \n",
              "2   202007020778474    7800.0       17            Grey         SKODA   \n",
              "3   202007080986776   45000.0       16           Brown      Vauxhall   \n",
              "4   202007161321269   64000.0       64            Grey    Land Rover   \n",
              "\n",
              "      standard_model vehicle_condition  year_of_registration  price  \\\n",
              "0               XC90               NEW                   NaN  73970   \n",
              "1                 XF              USED                2011.0   7000   \n",
              "2               Yeti              USED                2017.0  14000   \n",
              "3              Mokka              USED                2016.0   7995   \n",
              "4  Range Rover Sport              USED                2015.0  26995   \n",
              "\n",
              "   body_type  crossover_car_and_van              fuel_type  \n",
              "0        SUV                  False  Petrol Plug-in Hybrid  \n",
              "1     Saloon                  False                 Diesel  \n",
              "2        SUV                  False                 Petrol  \n",
              "3  Hatchback                  False                 Diesel  \n",
              "4        SUV                  False                 Diesel  "
            ],
            "text/html": [
              "\n",
              "  <div id=\"df-c766ceb6-9128-49cb-8f7a-e7fb4d14149e\">\n",
              "    <div class=\"colab-df-container\">\n",
              "      <div>\n",
              "<style scoped>\n",
              "    .dataframe tbody tr th:only-of-type {\n",
              "        vertical-align: middle;\n",
              "    }\n",
              "\n",
              "    .dataframe tbody tr th {\n",
              "        vertical-align: top;\n",
              "    }\n",
              "\n",
              "    .dataframe thead th {\n",
              "        text-align: right;\n",
              "    }\n",
              "</style>\n",
              "<table border=\"1\" class=\"dataframe\">\n",
              "  <thead>\n",
              "    <tr style=\"text-align: right;\">\n",
              "      <th></th>\n",
              "      <th>public_reference</th>\n",
              "      <th>mileage</th>\n",
              "      <th>reg_code</th>\n",
              "      <th>standard_colour</th>\n",
              "      <th>standard_make</th>\n",
              "      <th>standard_model</th>\n",
              "      <th>vehicle_condition</th>\n",
              "      <th>year_of_registration</th>\n",
              "      <th>price</th>\n",
              "      <th>body_type</th>\n",
              "      <th>crossover_car_and_van</th>\n",
              "      <th>fuel_type</th>\n",
              "    </tr>\n",
              "  </thead>\n",
              "  <tbody>\n",
              "    <tr>\n",
              "      <th>0</th>\n",
              "      <td>202006039777689</td>\n",
              "      <td>0.0</td>\n",
              "      <td>NaN</td>\n",
              "      <td>Grey</td>\n",
              "      <td>Volvo</td>\n",
              "      <td>XC90</td>\n",
              "      <td>NEW</td>\n",
              "      <td>NaN</td>\n",
              "      <td>73970</td>\n",
              "      <td>SUV</td>\n",
              "      <td>False</td>\n",
              "      <td>Petrol Plug-in Hybrid</td>\n",
              "    </tr>\n",
              "    <tr>\n",
              "      <th>1</th>\n",
              "      <td>202007020778260</td>\n",
              "      <td>108230.0</td>\n",
              "      <td>61</td>\n",
              "      <td>Blue</td>\n",
              "      <td>Jaguar</td>\n",
              "      <td>XF</td>\n",
              "      <td>USED</td>\n",
              "      <td>2011.0</td>\n",
              "      <td>7000</td>\n",
              "      <td>Saloon</td>\n",
              "      <td>False</td>\n",
              "      <td>Diesel</td>\n",
              "    </tr>\n",
              "    <tr>\n",
              "      <th>2</th>\n",
              "      <td>202007020778474</td>\n",
              "      <td>7800.0</td>\n",
              "      <td>17</td>\n",
              "      <td>Grey</td>\n",
              "      <td>SKODA</td>\n",
              "      <td>Yeti</td>\n",
              "      <td>USED</td>\n",
              "      <td>2017.0</td>\n",
              "      <td>14000</td>\n",
              "      <td>SUV</td>\n",
              "      <td>False</td>\n",
              "      <td>Petrol</td>\n",
              "    </tr>\n",
              "    <tr>\n",
              "      <th>3</th>\n",
              "      <td>202007080986776</td>\n",
              "      <td>45000.0</td>\n",
              "      <td>16</td>\n",
              "      <td>Brown</td>\n",
              "      <td>Vauxhall</td>\n",
              "      <td>Mokka</td>\n",
              "      <td>USED</td>\n",
              "      <td>2016.0</td>\n",
              "      <td>7995</td>\n",
              "      <td>Hatchback</td>\n",
              "      <td>False</td>\n",
              "      <td>Diesel</td>\n",
              "    </tr>\n",
              "    <tr>\n",
              "      <th>4</th>\n",
              "      <td>202007161321269</td>\n",
              "      <td>64000.0</td>\n",
              "      <td>64</td>\n",
              "      <td>Grey</td>\n",
              "      <td>Land Rover</td>\n",
              "      <td>Range Rover Sport</td>\n",
              "      <td>USED</td>\n",
              "      <td>2015.0</td>\n",
              "      <td>26995</td>\n",
              "      <td>SUV</td>\n",
              "      <td>False</td>\n",
              "      <td>Diesel</td>\n",
              "    </tr>\n",
              "  </tbody>\n",
              "</table>\n",
              "</div>\n",
              "      <button class=\"colab-df-convert\" onclick=\"convertToInteractive('df-c766ceb6-9128-49cb-8f7a-e7fb4d14149e')\"\n",
              "              title=\"Convert this dataframe to an interactive table.\"\n",
              "              style=\"display:none;\">\n",
              "        \n",
              "  <svg xmlns=\"http://www.w3.org/2000/svg\" height=\"24px\"viewBox=\"0 0 24 24\"\n",
              "       width=\"24px\">\n",
              "    <path d=\"M0 0h24v24H0V0z\" fill=\"none\"/>\n",
              "    <path d=\"M18.56 5.44l.94 2.06.94-2.06 2.06-.94-2.06-.94-.94-2.06-.94 2.06-2.06.94zm-11 1L8.5 8.5l.94-2.06 2.06-.94-2.06-.94L8.5 2.5l-.94 2.06-2.06.94zm10 10l.94 2.06.94-2.06 2.06-.94-2.06-.94-.94-2.06-.94 2.06-2.06.94z\"/><path d=\"M17.41 7.96l-1.37-1.37c-.4-.4-.92-.59-1.43-.59-.52 0-1.04.2-1.43.59L10.3 9.45l-7.72 7.72c-.78.78-.78 2.05 0 2.83L4 21.41c.39.39.9.59 1.41.59.51 0 1.02-.2 1.41-.59l7.78-7.78 2.81-2.81c.8-.78.8-2.07 0-2.86zM5.41 20L4 18.59l7.72-7.72 1.47 1.35L5.41 20z\"/>\n",
              "  </svg>\n",
              "      </button>\n",
              "      \n",
              "  <style>\n",
              "    .colab-df-container {\n",
              "      display:flex;\n",
              "      flex-wrap:wrap;\n",
              "      gap: 12px;\n",
              "    }\n",
              "\n",
              "    .colab-df-convert {\n",
              "      background-color: #E8F0FE;\n",
              "      border: none;\n",
              "      border-radius: 50%;\n",
              "      cursor: pointer;\n",
              "      display: none;\n",
              "      fill: #1967D2;\n",
              "      height: 32px;\n",
              "      padding: 0 0 0 0;\n",
              "      width: 32px;\n",
              "    }\n",
              "\n",
              "    .colab-df-convert:hover {\n",
              "      background-color: #E2EBFA;\n",
              "      box-shadow: 0px 1px 2px rgba(60, 64, 67, 0.3), 0px 1px 3px 1px rgba(60, 64, 67, 0.15);\n",
              "      fill: #174EA6;\n",
              "    }\n",
              "\n",
              "    [theme=dark] .colab-df-convert {\n",
              "      background-color: #3B4455;\n",
              "      fill: #D2E3FC;\n",
              "    }\n",
              "\n",
              "    [theme=dark] .colab-df-convert:hover {\n",
              "      background-color: #434B5C;\n",
              "      box-shadow: 0px 1px 3px 1px rgba(0, 0, 0, 0.15);\n",
              "      filter: drop-shadow(0px 1px 2px rgba(0, 0, 0, 0.3));\n",
              "      fill: #FFFFFF;\n",
              "    }\n",
              "  </style>\n",
              "\n",
              "      <script>\n",
              "        const buttonEl =\n",
              "          document.querySelector('#df-c766ceb6-9128-49cb-8f7a-e7fb4d14149e button.colab-df-convert');\n",
              "        buttonEl.style.display =\n",
              "          google.colab.kernel.accessAllowed ? 'block' : 'none';\n",
              "\n",
              "        async function convertToInteractive(key) {\n",
              "          const element = document.querySelector('#df-c766ceb6-9128-49cb-8f7a-e7fb4d14149e');\n",
              "          const dataTable =\n",
              "            await google.colab.kernel.invokeFunction('convertToInteractive',\n",
              "                                                     [key], {});\n",
              "          if (!dataTable) return;\n",
              "\n",
              "          const docLinkHtml = 'Like what you see? Visit the ' +\n",
              "            '<a target=\"_blank\" href=https://colab.research.google.com/notebooks/data_table.ipynb>data table notebook</a>'\n",
              "            + ' to learn more about interactive tables.';\n",
              "          element.innerHTML = '';\n",
              "          dataTable['output_type'] = 'display_data';\n",
              "          await google.colab.output.renderOutput(dataTable, element);\n",
              "          const docLink = document.createElement('div');\n",
              "          docLink.innerHTML = docLinkHtml;\n",
              "          element.appendChild(docLink);\n",
              "        }\n",
              "      </script>\n",
              "    </div>\n",
              "  </div>\n",
              "  "
            ]
          },
          "metadata": {},
          "execution_count": 123
        }
      ]
    },
    {
      "cell_type": "markdown",
      "source": [
        "Doing a descriptive statistics on the dataset to better understand the dataframe "
      ],
      "metadata": {
        "id": "-x7_wBSPduk8"
      }
    },
    {
      "cell_type": "code",
      "source": [
        "df.shape #the shape method shows there are 402,005 rows and 12 columns in the dataset"
      ],
      "metadata": {
        "colab": {
          "base_uri": "https://localhost:8080/"
        },
        "id": "3MHWrvEQd342",
        "outputId": "7c0a5240-a504-488e-b8be-98134e08a402"
      },
      "execution_count": 124,
      "outputs": [
        {
          "output_type": "execute_result",
          "data": {
            "text/plain": [
              "(402005, 12)"
            ]
          },
          "metadata": {},
          "execution_count": 124
        }
      ]
    },
    {
      "cell_type": "code",
      "source": [
        "df.columns #columns method shows the names of each columns in the dataset. "
      ],
      "metadata": {
        "id": "xlCI_I4f3ypM",
        "colab": {
          "base_uri": "https://localhost:8080/"
        },
        "outputId": "7b9e3554-5605-441c-bd31-6e09a62cd47f"
      },
      "execution_count": 125,
      "outputs": [
        {
          "output_type": "execute_result",
          "data": {
            "text/plain": [
              "Index(['public_reference', 'mileage', 'reg_code', 'standard_colour',\n",
              "       'standard_make', 'standard_model', 'vehicle_condition',\n",
              "       'year_of_registration', 'price', 'body_type', 'crossover_car_and_van',\n",
              "       'fuel_type'],\n",
              "      dtype='object')"
            ]
          },
          "metadata": {},
          "execution_count": 125
        }
      ]
    },
    {
      "cell_type": "code",
      "source": [
        "df.info() #Passing the info method on the dataset in order to view a general summary and information about the dataset, which includes the datatypes, range index etc"
      ],
      "metadata": {
        "colab": {
          "base_uri": "https://localhost:8080/"
        },
        "id": "5nVRM-FweAh-",
        "outputId": "d2bc7d27-2061-4799-ec8f-881331ae6e3d"
      },
      "execution_count": 126,
      "outputs": [
        {
          "output_type": "stream",
          "name": "stdout",
          "text": [
            "<class 'pandas.core.frame.DataFrame'>\n",
            "RangeIndex: 402005 entries, 0 to 402004\n",
            "Data columns (total 12 columns):\n",
            " #   Column                 Non-Null Count   Dtype  \n",
            "---  ------                 --------------   -----  \n",
            " 0   public_reference       402005 non-null  int64  \n",
            " 1   mileage                401878 non-null  float64\n",
            " 2   reg_code               370148 non-null  object \n",
            " 3   standard_colour        396627 non-null  object \n",
            " 4   standard_make          402005 non-null  object \n",
            " 5   standard_model         402005 non-null  object \n",
            " 6   vehicle_condition      402005 non-null  object \n",
            " 7   year_of_registration   368694 non-null  float64\n",
            " 8   price                  402005 non-null  int64  \n",
            " 9   body_type              401168 non-null  object \n",
            " 10  crossover_car_and_van  402005 non-null  bool   \n",
            " 11  fuel_type              401404 non-null  object \n",
            "dtypes: bool(1), float64(2), int64(2), object(7)\n",
            "memory usage: 34.1+ MB\n"
          ]
        }
      ]
    },
    {
      "cell_type": "markdown",
      "source": [
        "After observing the different data types of the different columns, we observe that year_of_registration data type as a float isn't correct, as year should be integer data type. Also it is essential to check if there are any duplicated rows in the dataset.\n",
        "\n"
      ],
      "metadata": {
        "id": "Y_OrCwXjjtg4"
      }
    },
    {
      "cell_type": "code",
      "source": [
        "df.duplicated().sum() # this shows that there are no duplicated rows in the dataset."
      ],
      "metadata": {
        "colab": {
          "base_uri": "https://localhost:8080/"
        },
        "id": "oAErglhPhq9C",
        "outputId": "07b13c05-d44f-4737-8085-603875382184"
      },
      "execution_count": 127,
      "outputs": [
        {
          "output_type": "execute_result",
          "data": {
            "text/plain": [
              "0"
            ]
          },
          "metadata": {},
          "execution_count": 127
        }
      ]
    },
    {
      "cell_type": "code",
      "source": [
        "df.describe() #to view the numerical summary statistics across the columns in the dataset"
      ],
      "metadata": {
        "colab": {
          "base_uri": "https://localhost:8080/",
          "height": 300
        },
        "id": "vg4LlPLdePYK",
        "outputId": "f8cab90e-b7dd-4a87-f971-534477a8900d"
      },
      "execution_count": 128,
      "outputs": [
        {
          "output_type": "execute_result",
          "data": {
            "text/plain": [
              "       public_reference        mileage  year_of_registration         price\n",
              "count      4.020050e+05  401878.000000         368694.000000  4.020050e+05\n",
              "mean       2.020071e+14   37743.595656           2015.006206  1.734197e+04\n",
              "std        1.691662e+10   34831.724018              7.962667  4.643746e+04\n",
              "min        2.013072e+14       0.000000            999.000000  1.200000e+02\n",
              "25%        2.020090e+14   10481.000000           2013.000000  7.495000e+03\n",
              "50%        2.020093e+14   28629.500000           2016.000000  1.260000e+04\n",
              "75%        2.020102e+14   56875.750000           2018.000000  2.000000e+04\n",
              "max        2.020110e+14  999999.000000           2020.000000  9.999999e+06"
            ],
            "text/html": [
              "\n",
              "  <div id=\"df-20994980-f1dc-4aa3-966c-f756acb86a2e\">\n",
              "    <div class=\"colab-df-container\">\n",
              "      <div>\n",
              "<style scoped>\n",
              "    .dataframe tbody tr th:only-of-type {\n",
              "        vertical-align: middle;\n",
              "    }\n",
              "\n",
              "    .dataframe tbody tr th {\n",
              "        vertical-align: top;\n",
              "    }\n",
              "\n",
              "    .dataframe thead th {\n",
              "        text-align: right;\n",
              "    }\n",
              "</style>\n",
              "<table border=\"1\" class=\"dataframe\">\n",
              "  <thead>\n",
              "    <tr style=\"text-align: right;\">\n",
              "      <th></th>\n",
              "      <th>public_reference</th>\n",
              "      <th>mileage</th>\n",
              "      <th>year_of_registration</th>\n",
              "      <th>price</th>\n",
              "    </tr>\n",
              "  </thead>\n",
              "  <tbody>\n",
              "    <tr>\n",
              "      <th>count</th>\n",
              "      <td>4.020050e+05</td>\n",
              "      <td>401878.000000</td>\n",
              "      <td>368694.000000</td>\n",
              "      <td>4.020050e+05</td>\n",
              "    </tr>\n",
              "    <tr>\n",
              "      <th>mean</th>\n",
              "      <td>2.020071e+14</td>\n",
              "      <td>37743.595656</td>\n",
              "      <td>2015.006206</td>\n",
              "      <td>1.734197e+04</td>\n",
              "    </tr>\n",
              "    <tr>\n",
              "      <th>std</th>\n",
              "      <td>1.691662e+10</td>\n",
              "      <td>34831.724018</td>\n",
              "      <td>7.962667</td>\n",
              "      <td>4.643746e+04</td>\n",
              "    </tr>\n",
              "    <tr>\n",
              "      <th>min</th>\n",
              "      <td>2.013072e+14</td>\n",
              "      <td>0.000000</td>\n",
              "      <td>999.000000</td>\n",
              "      <td>1.200000e+02</td>\n",
              "    </tr>\n",
              "    <tr>\n",
              "      <th>25%</th>\n",
              "      <td>2.020090e+14</td>\n",
              "      <td>10481.000000</td>\n",
              "      <td>2013.000000</td>\n",
              "      <td>7.495000e+03</td>\n",
              "    </tr>\n",
              "    <tr>\n",
              "      <th>50%</th>\n",
              "      <td>2.020093e+14</td>\n",
              "      <td>28629.500000</td>\n",
              "      <td>2016.000000</td>\n",
              "      <td>1.260000e+04</td>\n",
              "    </tr>\n",
              "    <tr>\n",
              "      <th>75%</th>\n",
              "      <td>2.020102e+14</td>\n",
              "      <td>56875.750000</td>\n",
              "      <td>2018.000000</td>\n",
              "      <td>2.000000e+04</td>\n",
              "    </tr>\n",
              "    <tr>\n",
              "      <th>max</th>\n",
              "      <td>2.020110e+14</td>\n",
              "      <td>999999.000000</td>\n",
              "      <td>2020.000000</td>\n",
              "      <td>9.999999e+06</td>\n",
              "    </tr>\n",
              "  </tbody>\n",
              "</table>\n",
              "</div>\n",
              "      <button class=\"colab-df-convert\" onclick=\"convertToInteractive('df-20994980-f1dc-4aa3-966c-f756acb86a2e')\"\n",
              "              title=\"Convert this dataframe to an interactive table.\"\n",
              "              style=\"display:none;\">\n",
              "        \n",
              "  <svg xmlns=\"http://www.w3.org/2000/svg\" height=\"24px\"viewBox=\"0 0 24 24\"\n",
              "       width=\"24px\">\n",
              "    <path d=\"M0 0h24v24H0V0z\" fill=\"none\"/>\n",
              "    <path d=\"M18.56 5.44l.94 2.06.94-2.06 2.06-.94-2.06-.94-.94-2.06-.94 2.06-2.06.94zm-11 1L8.5 8.5l.94-2.06 2.06-.94-2.06-.94L8.5 2.5l-.94 2.06-2.06.94zm10 10l.94 2.06.94-2.06 2.06-.94-2.06-.94-.94-2.06-.94 2.06-2.06.94z\"/><path d=\"M17.41 7.96l-1.37-1.37c-.4-.4-.92-.59-1.43-.59-.52 0-1.04.2-1.43.59L10.3 9.45l-7.72 7.72c-.78.78-.78 2.05 0 2.83L4 21.41c.39.39.9.59 1.41.59.51 0 1.02-.2 1.41-.59l7.78-7.78 2.81-2.81c.8-.78.8-2.07 0-2.86zM5.41 20L4 18.59l7.72-7.72 1.47 1.35L5.41 20z\"/>\n",
              "  </svg>\n",
              "      </button>\n",
              "      \n",
              "  <style>\n",
              "    .colab-df-container {\n",
              "      display:flex;\n",
              "      flex-wrap:wrap;\n",
              "      gap: 12px;\n",
              "    }\n",
              "\n",
              "    .colab-df-convert {\n",
              "      background-color: #E8F0FE;\n",
              "      border: none;\n",
              "      border-radius: 50%;\n",
              "      cursor: pointer;\n",
              "      display: none;\n",
              "      fill: #1967D2;\n",
              "      height: 32px;\n",
              "      padding: 0 0 0 0;\n",
              "      width: 32px;\n",
              "    }\n",
              "\n",
              "    .colab-df-convert:hover {\n",
              "      background-color: #E2EBFA;\n",
              "      box-shadow: 0px 1px 2px rgba(60, 64, 67, 0.3), 0px 1px 3px 1px rgba(60, 64, 67, 0.15);\n",
              "      fill: #174EA6;\n",
              "    }\n",
              "\n",
              "    [theme=dark] .colab-df-convert {\n",
              "      background-color: #3B4455;\n",
              "      fill: #D2E3FC;\n",
              "    }\n",
              "\n",
              "    [theme=dark] .colab-df-convert:hover {\n",
              "      background-color: #434B5C;\n",
              "      box-shadow: 0px 1px 3px 1px rgba(0, 0, 0, 0.15);\n",
              "      filter: drop-shadow(0px 1px 2px rgba(0, 0, 0, 0.3));\n",
              "      fill: #FFFFFF;\n",
              "    }\n",
              "  </style>\n",
              "\n",
              "      <script>\n",
              "        const buttonEl =\n",
              "          document.querySelector('#df-20994980-f1dc-4aa3-966c-f756acb86a2e button.colab-df-convert');\n",
              "        buttonEl.style.display =\n",
              "          google.colab.kernel.accessAllowed ? 'block' : 'none';\n",
              "\n",
              "        async function convertToInteractive(key) {\n",
              "          const element = document.querySelector('#df-20994980-f1dc-4aa3-966c-f756acb86a2e');\n",
              "          const dataTable =\n",
              "            await google.colab.kernel.invokeFunction('convertToInteractive',\n",
              "                                                     [key], {});\n",
              "          if (!dataTable) return;\n",
              "\n",
              "          const docLinkHtml = 'Like what you see? Visit the ' +\n",
              "            '<a target=\"_blank\" href=https://colab.research.google.com/notebooks/data_table.ipynb>data table notebook</a>'\n",
              "            + ' to learn more about interactive tables.';\n",
              "          element.innerHTML = '';\n",
              "          dataTable['output_type'] = 'display_data';\n",
              "          await google.colab.output.renderOutput(dataTable, element);\n",
              "          const docLink = document.createElement('div');\n",
              "          docLink.innerHTML = docLinkHtml;\n",
              "          element.appendChild(docLink);\n",
              "        }\n",
              "      </script>\n",
              "    </div>\n",
              "  </div>\n",
              "  "
            ]
          },
          "metadata": {},
          "execution_count": 128
        }
      ]
    },
    {
      "cell_type": "code",
      "source": [
        "df.isna().sum() #we need to view the number of missing values in each cell"
      ],
      "metadata": {
        "colab": {
          "base_uri": "https://localhost:8080/"
        },
        "id": "S5NeUSpG2FXc",
        "outputId": "657a39c4-0552-4ddf-cb77-ff85072961a2"
      },
      "execution_count": 129,
      "outputs": [
        {
          "output_type": "execute_result",
          "data": {
            "text/plain": [
              "public_reference             0\n",
              "mileage                    127\n",
              "reg_code                 31857\n",
              "standard_colour           5378\n",
              "standard_make                0\n",
              "standard_model               0\n",
              "vehicle_condition            0\n",
              "year_of_registration     33311\n",
              "price                        0\n",
              "body_type                  837\n",
              "crossover_car_and_van        0\n",
              "fuel_type                  601\n",
              "dtype: int64"
            ]
          },
          "metadata": {},
          "execution_count": 129
        }
      ]
    },
    {
      "cell_type": "code",
      "source": [
        "df.hist(figsize=(10,10)); # just a rough check on the distribution of the numerical features"
      ],
      "metadata": {
        "colab": {
          "base_uri": "https://localhost:8080/",
          "height": 621
        },
        "id": "LZmE8Ib4bEog",
        "outputId": "91c6db52-49fa-4440-b691-0a361efb306c"
      },
      "execution_count": 130,
      "outputs": [
        {
          "output_type": "display_data",
          "data": {
            "text/plain": [
              "<Figure size 720x720 with 4 Axes>"
            ],
            "image/png": "[encoded data removed]"
          },
          "metadata": {
            "needs_background": "light"
          }
        }
      ]
    },
    {
      "cell_type": "markdown",
      "source": [
        "# New section"
      ],
      "metadata": {
        "id": "SONN4WA36X6X"
      }
    },
    {
      "cell_type": "code",
      "source": [
        "plt.figure(figsize=(10,8))\n",
        "sns.countplot(y= df['standard_colour']);\n"
      ],
      "metadata": {
        "colab": {
          "base_uri": "https://localhost:8080/",
          "height": 497
        },
        "id": "lvl8GXu0cULa",
        "outputId": "8061c399-7008-4e27-c931-99345d5bc8c4"
      },
      "execution_count": 131,
      "outputs": [
        {
          "output_type": "display_data",
          "data": {
            "text/plain": [
              "<Figure size 720x576 with 1 Axes>"
            ],
            "image/png": "[encoded data removed]"
          },
          "metadata": {
            "needs_background": "light"
          }
        }
      ]
    },
    {
      "cell_type": "code",
      "source": [
        "plt.figure(figsize=(16,8))\n",
        "sns.countplot(x=df['standard_make']);"
      ],
      "metadata": {
        "colab": {
          "base_uri": "https://localhost:8080/",
          "height": 473
        },
        "id": "YKCSXK7TcpDM",
        "outputId": "5b06ce67-ded0-40f5-ab46-5577b6a03240"
      },
      "execution_count": 132,
      "outputs": [
        {
          "output_type": "display_data",
          "data": {
            "text/plain": [
              "<Figure size 1152x576 with 1 Axes>"
            ],
            "image/png": "[encoded data removed]"
          },
          "metadata": {
            "needs_background": "light"
          }
        }
      ]
    },
    {
      "cell_type": "code",
      "source": [
        "plt.figure(figsize=(16,6))\n",
        "sns.countplot(x = df['body_type'])"
      ],
      "metadata": {
        "colab": {
          "base_uri": "https://localhost:8080/",
          "height": 397
        },
        "id": "U93XR1B1dLHw",
        "outputId": "dee93741-5955-40e6-fcca-3c72809b03a2"
      },
      "execution_count": 133,
      "outputs": [
        {
          "output_type": "execute_result",
          "data": {
            "text/plain": [
              "<matplotlib.axes._subplots.AxesSubplot at 0x7fac6a8ad790>"
            ]
          },
          "metadata": {},
          "execution_count": 133
        },
        {
          "output_type": "display_data",
          "data": {
            "text/plain": [
              "<Figure size 1152x432 with 1 Axes>"
            ],
            "image/png": "[encoded data removed]"
          },
          "metadata": {
            "needs_background": "light"
          }
        }
      ]
    },
    {
      "cell_type": "code",
      "source": [
        "plt.figure(figsize=(16,6))\n",
        "sns.countplot(df['fuel_type']);"
      ],
      "metadata": {
        "colab": {
          "base_uri": "https://localhost:8080/",
          "height": 435
        },
        "id": "d84PMBIidrmQ",
        "outputId": "6e669463-b26c-47de-8c26-3f9241f93549"
      },
      "execution_count": 134,
      "outputs": [
        {
          "output_type": "stream",
          "name": "stderr",
          "text": [
            "/usr/local/lib/python3.8/dist-packages/seaborn/_decorators.py:36: FutureWarning: Pass the following variable as a keyword arg: x. From version 0.12, the only valid positional argument will be `data`, and passing other arguments without an explicit keyword will result in an error or misinterpretation.\n",
            "  warnings.warn(\n"
          ]
        },
        {
          "output_type": "display_data",
          "data": {
            "text/plain": [
              "<Figure size 1152x432 with 1 Axes>"
            ],
            "image/png": "[encoded data removed]"
          },
          "metadata": {
            "needs_background": "light"
          }
        }
      ]
    },
    {
      "cell_type": "markdown",
      "source": [
        "There are some missing values in the year of registration column, filling up the missing values so as to be able to change the data type from Float to int"
      ],
      "metadata": {
        "id": "jbMf7uNI0xrN"
      }
    },
    {
      "cell_type": "code",
      "source": [
        "df['year_of_registration'] = df['year_of_registration'].fillna(2021) #Filling the NaN values in the year of registration column as 2021, to be representive of the year 2021\n",
        "df['year_of_registration'] = df['year_of_registration'].astype(int)\n",
        "df['year_of_registration'].dtypes   #to see if the change in data type for year of registration is succesful"
      ],
      "metadata": {
        "id": "-UsTOl5EnJPs",
        "colab": {
          "base_uri": "https://localhost:8080/"
        },
        "outputId": "ab2a9481-fb40-481e-e33f-3703a3880fe5"
      },
      "execution_count": 135,
      "outputs": [
        {
          "output_type": "execute_result",
          "data": {
            "text/plain": [
              "dtype('int64')"
            ]
          },
          "metadata": {},
          "execution_count": 135
        }
      ]
    },
    {
      "cell_type": "code",
      "source": [
        "df['year_of_registration'].unique() #to view the unique values in the year_of_registration column\n",
        "#we can see from the result here that some values which are not in the 'yyyy' format and there are some errors in some year. We can either drop them or segregate the data into two parts."
      ],
      "metadata": {
        "colab": {
          "base_uri": "https://localhost:8080/"
        },
        "id": "tqKhL9tmir2B",
        "outputId": "728e69d2-98a5-4607-eefd-b2b7035b5a13"
      },
      "execution_count": 136,
      "outputs": [
        {
          "output_type": "execute_result",
          "data": {
            "text/plain": [
              "array([2021, 2011, 2017, 2016, 2015, 2013, 2008, 2019, 2010, 2012, 2018,\n",
              "       2009, 1984, 2014, 2003, 2006, 2020, 2005, 2000, 2002, 2007, 2004,\n",
              "       1991, 2001, 1986, 1998, 1990, 1993, 1987, 1994, 1999, 1970, 1988,\n",
              "       1995, 1997, 1969, 1992, 1989, 1996, 1976, 1983, 1980, 1973, 1962,\n",
              "       1967, 1972, 1982, 1968, 1979, 1964, 1933, 1981, 1985, 1978, 1971,\n",
              "       1974, 1966, 1977, 1961, 1965, 1007, 1957, 1515, 1963, 1063, 1954,\n",
              "       1975, 1955, 1009, 1016, 1960, 1956, 1959, 1909, 1934, 1958, 1010,\n",
              "       1950, 1008, 1018,  999, 1017, 1952, 1006, 1015])"
            ]
          },
          "metadata": {},
          "execution_count": 136
        }
      ]
    },
    {
      "cell_type": "code",
      "source": [
        "plt.figure(figsize=(10,5))\n",
        "sns.kdeplot(data=df, x=\"year_of_registration\") #using the kdeplot, our distribution is skewed to the right"
      ],
      "metadata": {
        "colab": {
          "base_uri": "https://localhost:8080/",
          "height": 352
        },
        "id": "i9oqlxRWkiVd",
        "outputId": "01e273eb-a15b-4de8-da96-12928d37f937"
      },
      "execution_count": 137,
      "outputs": [
        {
          "output_type": "execute_result",
          "data": {
            "text/plain": [
              "<matplotlib.axes._subplots.AxesSubplot at 0x7fac6ae52af0>"
            ]
          },
          "metadata": {},
          "execution_count": 137
        },
        {
          "output_type": "display_data",
          "data": {
            "text/plain": [
              "<Figure size 720x360 with 1 Axes>"
            ],
            "image/png": "[encoded data removed]"
          },
          "metadata": {
            "needs_background": "light"
          }
        }
      ]
    },
    {
      "cell_type": "markdown",
      "source": [
        "From the KDE distribution above, most of our data falls in the >1999s years range, and the summary statisctics shows that our averagew year is 2015. We can then focus on years that are greater than 1999 for our work. Hence we divide the dataset into two (2) groups. \n",
        "\n",
        "\n",
        "1.   Year greater than 1999\n",
        "2.   Year less than 2000\n",
        "\n"
      ],
      "metadata": {
        "id": "Qwxq9X6JBTOB"
      }
    },
    {
      "cell_type": "code",
      "source": [
        "less_2000 = df[df['year_of_registration'] < 2000] #for years less than 2000's\n",
        "less_2000.sample()"
      ],
      "metadata": {
        "id": "Y0PQJTVfGmoM",
        "colab": {
          "base_uri": "https://localhost:8080/",
          "height": 145
        },
        "outputId": "7250151a-8cd5-48ab-f860-0a2813fcd541"
      },
      "execution_count": 138,
      "outputs": [
        {
          "output_type": "execute_result",
          "data": {
            "text/plain": [
              "        public_reference   mileage reg_code standard_colour standard_make  \\\n",
              "372876   202009244174190  107000.0        J           Black         Honda   \n",
              "\n",
              "       standard_model vehicle_condition  year_of_registration  price  \\\n",
              "372876           CR-X              USED                  1991   4000   \n",
              "\n",
              "        body_type  crossover_car_and_van fuel_type  \n",
              "372876  Hatchback                  False    Petrol  "
            ],
            "text/html": [
              "\n",
              "  <div id=\"df-210af542-fd86-4af4-a965-a2b0d97e2167\">\n",
              "    <div class=\"colab-df-container\">\n",
              "      <div>\n",
              "<style scoped>\n",
              "    .dataframe tbody tr th:only-of-type {\n",
              "        vertical-align: middle;\n",
              "    }\n",
              "\n",
              "    .dataframe tbody tr th {\n",
              "        vertical-align: top;\n",
              "    }\n",
              "\n",
              "    .dataframe thead th {\n",
              "        text-align: right;\n",
              "    }\n",
              "</style>\n",
              "<table border=\"1\" class=\"dataframe\">\n",
              "  <thead>\n",
              "    <tr style=\"text-align: right;\">\n",
              "      <th></th>\n",
              "      <th>public_reference</th>\n",
              "      <th>mileage</th>\n",
              "      <th>reg_code</th>\n",
              "      <th>standard_colour</th>\n",
              "      <th>standard_make</th>\n",
              "      <th>standard_model</th>\n",
              "      <th>vehicle_condition</th>\n",
              "      <th>year_of_registration</th>\n",
              "      <th>price</th>\n",
              "      <th>body_type</th>\n",
              "      <th>crossover_car_and_van</th>\n",
              "      <th>fuel_type</th>\n",
              "    </tr>\n",
              "  </thead>\n",
              "  <tbody>\n",
              "    <tr>\n",
              "      <th>372876</th>\n",
              "      <td>202009244174190</td>\n",
              "      <td>107000.0</td>\n",
              "      <td>J</td>\n",
              "      <td>Black</td>\n",
              "      <td>Honda</td>\n",
              "      <td>CR-X</td>\n",
              "      <td>USED</td>\n",
              "      <td>1991</td>\n",
              "      <td>4000</td>\n",
              "      <td>Hatchback</td>\n",
              "      <td>False</td>\n",
              "      <td>Petrol</td>\n",
              "    </tr>\n",
              "  </tbody>\n",
              "</table>\n",
              "</div>\n",
              "      <button class=\"colab-df-convert\" onclick=\"convertToInteractive('df-210af542-fd86-4af4-a965-a2b0d97e2167')\"\n",
              "              title=\"Convert this dataframe to an interactive table.\"\n",
              "              style=\"display:none;\">\n",
              "        \n",
              "  <svg xmlns=\"http://www.w3.org/2000/svg\" height=\"24px\"viewBox=\"0 0 24 24\"\n",
              "       width=\"24px\">\n",
              "    <path d=\"M0 0h24v24H0V0z\" fill=\"none\"/>\n",
              "    <path d=\"M18.56 5.44l.94 2.06.94-2.06 2.06-.94-2.06-.94-.94-2.06-.94 2.06-2.06.94zm-11 1L8.5 8.5l.94-2.06 2.06-.94-2.06-.94L8.5 2.5l-.94 2.06-2.06.94zm10 10l.94 2.06.94-2.06 2.06-.94-2.06-.94-.94-2.06-.94 2.06-2.06.94z\"/><path d=\"M17.41 7.96l-1.37-1.37c-.4-.4-.92-.59-1.43-.59-.52 0-1.04.2-1.43.59L10.3 9.45l-7.72 7.72c-.78.78-.78 2.05 0 2.83L4 21.41c.39.39.9.59 1.41.59.51 0 1.02-.2 1.41-.59l7.78-7.78 2.81-2.81c.8-.78.8-2.07 0-2.86zM5.41 20L4 18.59l7.72-7.72 1.47 1.35L5.41 20z\"/>\n",
              "  </svg>\n",
              "      </button>\n",
              "      \n",
              "  <style>\n",
              "    .colab-df-container {\n",
              "      display:flex;\n",
              "      flex-wrap:wrap;\n",
              "      gap: 12px;\n",
              "    }\n",
              "\n",
              "    .colab-df-convert {\n",
              "      background-color: #E8F0FE;\n",
              "      border: none;\n",
              "      border-radius: 50%;\n",
              "      cursor: pointer;\n",
              "      display: none;\n",
              "      fill: #1967D2;\n",
              "      height: 32px;\n",
              "      padding: 0 0 0 0;\n",
              "      width: 32px;\n",
              "    }\n",
              "\n",
              "    .colab-df-convert:hover {\n",
              "      background-color: #E2EBFA;\n",
              "      box-shadow: 0px 1px 2px rgba(60, 64, 67, 0.3), 0px 1px 3px 1px rgba(60, 64, 67, 0.15);\n",
              "      fill: #174EA6;\n",
              "    }\n",
              "\n",
              "    [theme=dark] .colab-df-convert {\n",
              "      background-color: #3B4455;\n",
              "      fill: #D2E3FC;\n",
              "    }\n",
              "\n",
              "    [theme=dark] .colab-df-convert:hover {\n",
              "      background-color: #434B5C;\n",
              "      box-shadow: 0px 1px 3px 1px rgba(0, 0, 0, 0.15);\n",
              "      filter: drop-shadow(0px 1px 2px rgba(0, 0, 0, 0.3));\n",
              "      fill: #FFFFFF;\n",
              "    }\n",
              "  </style>\n",
              "\n",
              "      <script>\n",
              "        const buttonEl =\n",
              "          document.querySelector('#df-210af542-fd86-4af4-a965-a2b0d97e2167 button.colab-df-convert');\n",
              "        buttonEl.style.display =\n",
              "          google.colab.kernel.accessAllowed ? 'block' : 'none';\n",
              "\n",
              "        async function convertToInteractive(key) {\n",
              "          const element = document.querySelector('#df-210af542-fd86-4af4-a965-a2b0d97e2167');\n",
              "          const dataTable =\n",
              "            await google.colab.kernel.invokeFunction('convertToInteractive',\n",
              "                                                     [key], {});\n",
              "          if (!dataTable) return;\n",
              "\n",
              "          const docLinkHtml = 'Like what you see? Visit the ' +\n",
              "            '<a target=\"_blank\" href=https://colab.research.google.com/notebooks/data_table.ipynb>data table notebook</a>'\n",
              "            + ' to learn more about interactive tables.';\n",
              "          element.innerHTML = '';\n",
              "          dataTable['output_type'] = 'display_data';\n",
              "          await google.colab.output.renderOutput(dataTable, element);\n",
              "          const docLink = document.createElement('div');\n",
              "          docLink.innerHTML = docLinkHtml;\n",
              "          element.appendChild(docLink);\n",
              "        }\n",
              "      </script>\n",
              "    </div>\n",
              "  </div>\n",
              "  "
            ]
          },
          "metadata": {},
          "execution_count": 138
        }
      ]
    },
    {
      "cell_type": "code",
      "source": [
        "greater_1999 = df[df['year_of_registration'] > 1999] #for years greater than 1999\n",
        "greater_1999.sample(2)"
      ],
      "metadata": {
        "colab": {
          "base_uri": "https://localhost:8080/",
          "height": 176
        },
        "id": "m8Bq-oePISUs",
        "outputId": "2b309efc-af5d-4f99-83c0-de16b9ca0bab"
      },
      "execution_count": 139,
      "outputs": [
        {
          "output_type": "execute_result",
          "data": {
            "text/plain": [
              "       public_reference   mileage reg_code standard_colour standard_make  \\\n",
              "74558   202010094821450  100000.0       05          Silver           BMW   \n",
              "73675   202008011968574     121.0       20           White        Suzuki   \n",
              "\n",
              "      standard_model vehicle_condition  year_of_registration  price body_type  \\\n",
              "74558       5 Series              USED                  2005   3995    Saloon   \n",
              "73675          Jimny              USED                  2020  23991       SUV   \n",
              "\n",
              "       crossover_car_and_van fuel_type  \n",
              "74558                  False    Diesel  \n",
              "73675                  False    Petrol  "
            ],
            "text/html": [
              "\n",
              "  <div id=\"df-6839149f-5a12-4ddd-bd07-c943d02cd5fd\">\n",
              "    <div class=\"colab-df-container\">\n",
              "      <div>\n",
              "<style scoped>\n",
              "    .dataframe tbody tr th:only-of-type {\n",
              "        vertical-align: middle;\n",
              "    }\n",
              "\n",
              "    .dataframe tbody tr th {\n",
              "        vertical-align: top;\n",
              "    }\n",
              "\n",
              "    .dataframe thead th {\n",
              "        text-align: right;\n",
              "    }\n",
              "</style>\n",
              "<table border=\"1\" class=\"dataframe\">\n",
              "  <thead>\n",
              "    <tr style=\"text-align: right;\">\n",
              "      <th></th>\n",
              "      <th>public_reference</th>\n",
              "      <th>mileage</th>\n",
              "      <th>reg_code</th>\n",
              "      <th>standard_colour</th>\n",
              "      <th>standard_make</th>\n",
              "      <th>standard_model</th>\n",
              "      <th>vehicle_condition</th>\n",
              "      <th>year_of_registration</th>\n",
              "      <th>price</th>\n",
              "      <th>body_type</th>\n",
              "      <th>crossover_car_and_van</th>\n",
              "      <th>fuel_type</th>\n",
              "    </tr>\n",
              "  </thead>\n",
              "  <tbody>\n",
              "    <tr>\n",
              "      <th>74558</th>\n",
              "      <td>202010094821450</td>\n",
              "      <td>100000.0</td>\n",
              "      <td>05</td>\n",
              "      <td>Silver</td>\n",
              "      <td>BMW</td>\n",
              "      <td>5 Series</td>\n",
              "      <td>USED</td>\n",
              "      <td>2005</td>\n",
              "      <td>3995</td>\n",
              "      <td>Saloon</td>\n",
              "      <td>False</td>\n",
              "      <td>Diesel</td>\n",
              "    </tr>\n",
              "    <tr>\n",
              "      <th>73675</th>\n",
              "      <td>202008011968574</td>\n",
              "      <td>121.0</td>\n",
              "      <td>20</td>\n",
              "      <td>White</td>\n",
              "      <td>Suzuki</td>\n",
              "      <td>Jimny</td>\n",
              "      <td>USED</td>\n",
              "      <td>2020</td>\n",
              "      <td>23991</td>\n",
              "      <td>SUV</td>\n",
              "      <td>False</td>\n",
              "      <td>Petrol</td>\n",
              "    </tr>\n",
              "  </tbody>\n",
              "</table>\n",
              "</div>\n",
              "      <button class=\"colab-df-convert\" onclick=\"convertToInteractive('df-6839149f-5a12-4ddd-bd07-c943d02cd5fd')\"\n",
              "              title=\"Convert this dataframe to an interactive table.\"\n",
              "              style=\"display:none;\">\n",
              "        \n",
              "  <svg xmlns=\"http://www.w3.org/2000/svg\" height=\"24px\"viewBox=\"0 0 24 24\"\n",
              "       width=\"24px\">\n",
              "    <path d=\"M0 0h24v24H0V0z\" fill=\"none\"/>\n",
              "    <path d=\"M18.56 5.44l.94 2.06.94-2.06 2.06-.94-2.06-.94-.94-2.06-.94 2.06-2.06.94zm-11 1L8.5 8.5l.94-2.06 2.06-.94-2.06-.94L8.5 2.5l-.94 2.06-2.06.94zm10 10l.94 2.06.94-2.06 2.06-.94-2.06-.94-.94-2.06-.94 2.06-2.06.94z\"/><path d=\"M17.41 7.96l-1.37-1.37c-.4-.4-.92-.59-1.43-.59-.52 0-1.04.2-1.43.59L10.3 9.45l-7.72 7.72c-.78.78-.78 2.05 0 2.83L4 21.41c.39.39.9.59 1.41.59.51 0 1.02-.2 1.41-.59l7.78-7.78 2.81-2.81c.8-.78.8-2.07 0-2.86zM5.41 20L4 18.59l7.72-7.72 1.47 1.35L5.41 20z\"/>\n",
              "  </svg>\n",
              "      </button>\n",
              "      \n",
              "  <style>\n",
              "    .colab-df-container {\n",
              "      display:flex;\n",
              "      flex-wrap:wrap;\n",
              "      gap: 12px;\n",
              "    }\n",
              "\n",
              "    .colab-df-convert {\n",
              "      background-color: #E8F0FE;\n",
              "      border: none;\n",
              "      border-radius: 50%;\n",
              "      cursor: pointer;\n",
              "      display: none;\n",
              "      fill: #1967D2;\n",
              "      height: 32px;\n",
              "      padding: 0 0 0 0;\n",
              "      width: 32px;\n",
              "    }\n",
              "\n",
              "    .colab-df-convert:hover {\n",
              "      background-color: #E2EBFA;\n",
              "      box-shadow: 0px 1px 2px rgba(60, 64, 67, 0.3), 0px 1px 3px 1px rgba(60, 64, 67, 0.15);\n",
              "      fill: #174EA6;\n",
              "    }\n",
              "\n",
              "    [theme=dark] .colab-df-convert {\n",
              "      background-color: #3B4455;\n",
              "      fill: #D2E3FC;\n",
              "    }\n",
              "\n",
              "    [theme=dark] .colab-df-convert:hover {\n",
              "      background-color: #434B5C;\n",
              "      box-shadow: 0px 1px 3px 1px rgba(0, 0, 0, 0.15);\n",
              "      filter: drop-shadow(0px 1px 2px rgba(0, 0, 0, 0.3));\n",
              "      fill: #FFFFFF;\n",
              "    }\n",
              "  </style>\n",
              "\n",
              "      <script>\n",
              "        const buttonEl =\n",
              "          document.querySelector('#df-6839149f-5a12-4ddd-bd07-c943d02cd5fd button.colab-df-convert');\n",
              "        buttonEl.style.display =\n",
              "          google.colab.kernel.accessAllowed ? 'block' : 'none';\n",
              "\n",
              "        async function convertToInteractive(key) {\n",
              "          const element = document.querySelector('#df-6839149f-5a12-4ddd-bd07-c943d02cd5fd');\n",
              "          const dataTable =\n",
              "            await google.colab.kernel.invokeFunction('convertToInteractive',\n",
              "                                                     [key], {});\n",
              "          if (!dataTable) return;\n",
              "\n",
              "          const docLinkHtml = 'Like what you see? Visit the ' +\n",
              "            '<a target=\"_blank\" href=https://colab.research.google.com/notebooks/data_table.ipynb>data table notebook</a>'\n",
              "            + ' to learn more about interactive tables.';\n",
              "          element.innerHTML = '';\n",
              "          dataTable['output_type'] = 'display_data';\n",
              "          await google.colab.output.renderOutput(dataTable, element);\n",
              "          const docLink = document.createElement('div');\n",
              "          docLink.innerHTML = docLinkHtml;\n",
              "          element.appendChild(docLink);\n",
              "        }\n",
              "      </script>\n",
              "    </div>\n",
              "  </div>\n",
              "  "
            ]
          },
          "metadata": {},
          "execution_count": 139
        }
      ]
    },
    {
      "cell_type": "code",
      "source": [
        "\n",
        "ax= greater_1999['crossover_car_and_van'].value_counts().plot.pie();"
      ],
      "metadata": {
        "colab": {
          "base_uri": "https://localhost:8080/",
          "height": 248
        },
        "id": "iOdKyGKGdY2j",
        "outputId": "a0e80c2f-3974-47fa-ad1f-46483f3aa4bd"
      },
      "execution_count": 140,
      "outputs": [
        {
          "output_type": "display_data",
          "data": {
            "text/plain": [
              "<Figure size 432x288 with 1 Axes>"
            ],
            "image/png": "[encoded data removed]"
          },
          "metadata": {}
        }
      ]
    },
    {
      "cell_type": "code",
      "source": [
        "plt.figure(figsize=(10,10))\n",
        "sns.catplot(data=greater_1999, col='vehicle_condition', x='fuel_type', y='price', height=8);"
      ],
      "metadata": {
        "colab": {
          "base_uri": "https://localhost:8080/",
          "height": 503
        },
        "id": "QfXtpxRWsztH",
        "outputId": "21cd1380-38b5-4b6c-f621-859585a7d8bc"
      },
      "execution_count": 141,
      "outputs": [
        {
          "output_type": "display_data",
          "data": {
            "text/plain": [
              "<Figure size 720x720 with 0 Axes>"
            ]
          },
          "metadata": {}
        },
        {
          "output_type": "display_data",
          "data": {
            "text/plain": [
              "<Figure size 1152x576 with 2 Axes>"
            ],
            "image/png": "[encoded data removed]"
          },
          "metadata": {
            "needs_background": "light"
          }
        }
      ]
    },
    {
      "cell_type": "code",
      "source": [
        "sns.histplot(data=greater_1999, x=\"year_of_registration\", binwidth=2, kde=True) #to show the distribution for car registered with years greater than 1999"
      ],
      "metadata": {
        "colab": {
          "base_uri": "https://localhost:8080/",
          "height": 297
        },
        "id": "41vELAOUIj1B",
        "outputId": "fe3277de-30d6-483b-a4de-088ff4b801f9"
      },
      "execution_count": 142,
      "outputs": [
        {
          "output_type": "execute_result",
          "data": {
            "text/plain": [
              "<matplotlib.axes._subplots.AxesSubplot at 0x7fac672caf70>"
            ]
          },
          "metadata": {},
          "execution_count": 142
        },
        {
          "output_type": "display_data",
          "data": {
            "text/plain": [
              "<Figure size 432x288 with 1 Axes>"
            ],
            "image/png": "[encoded data removed]"
          },
          "metadata": {
            "needs_background": "light"
          }
        }
      ]
    },
    {
      "cell_type": "code",
      "source": [
        "greater_1999.info() #to view the information about the new dataset"
      ],
      "metadata": {
        "colab": {
          "base_uri": "https://localhost:8080/"
        },
        "id": "srPG9_7TKN-i",
        "outputId": "310da2c1-2fe9-4cbe-87eb-d5e9f3903277"
      },
      "execution_count": 143,
      "outputs": [
        {
          "output_type": "stream",
          "name": "stdout",
          "text": [
            "<class 'pandas.core.frame.DataFrame'>\n",
            "Int64Index: 399921 entries, 0 to 402004\n",
            "Data columns (total 12 columns):\n",
            " #   Column                 Non-Null Count   Dtype  \n",
            "---  ------                 --------------   -----  \n",
            " 0   public_reference       399921 non-null  int64  \n",
            " 1   mileage                399797 non-null  float64\n",
            " 2   reg_code               368139 non-null  object \n",
            " 3   standard_colour        394721 non-null  object \n",
            " 4   standard_make          399921 non-null  object \n",
            " 5   standard_model         399921 non-null  object \n",
            " 6   vehicle_condition      399921 non-null  object \n",
            " 7   year_of_registration   399921 non-null  int64  \n",
            " 8   price                  399921 non-null  int64  \n",
            " 9   body_type              399139 non-null  object \n",
            " 10  crossover_car_and_van  399921 non-null  bool   \n",
            " 11  fuel_type              399350 non-null  object \n",
            "dtypes: bool(1), float64(1), int64(3), object(7)\n",
            "memory usage: 45.1+ MB\n"
          ]
        }
      ]
    },
    {
      "cell_type": "code",
      "source": [
        "greater_1999.isna().sum() #to see the numbers of missiong values in the new dataset"
      ],
      "metadata": {
        "colab": {
          "base_uri": "https://localhost:8080/"
        },
        "id": "kuIuHFiMERd8",
        "outputId": "876f7f13-5bb1-4f13-ff03-8c6b36fb0a8f"
      },
      "execution_count": 144,
      "outputs": [
        {
          "output_type": "execute_result",
          "data": {
            "text/plain": [
              "public_reference             0\n",
              "mileage                    124\n",
              "reg_code                 31782\n",
              "standard_colour           5200\n",
              "standard_make                0\n",
              "standard_model               0\n",
              "vehicle_condition            0\n",
              "year_of_registration         0\n",
              "price                        0\n",
              "body_type                  782\n",
              "crossover_car_and_van        0\n",
              "fuel_type                  571\n",
              "dtype: int64"
            ]
          },
          "metadata": {},
          "execution_count": 144
        }
      ]
    },
    {
      "cell_type": "markdown",
      "source": [
        "From inspection of the dataset, Public reference and Registration code are not essential for our analysis, Hence we will be dropping these columns."
      ],
      "metadata": {
        "id": "J3A5tdbjiA4b"
      }
    },
    {
      "cell_type": "code",
      "source": [
        "greater_1999 = greater_1999.drop(columns=['public_reference', 'reg_code']) #dropping public reference annd reg_code column\n",
        "greater_1999.sample()"
      ],
      "metadata": {
        "colab": {
          "base_uri": "https://localhost:8080/",
          "height": 162
        },
        "id": "HBsC5-w8QJXF",
        "outputId": "af5eb308-eaf1-48a5-ab4f-0708ed88836f"
      },
      "execution_count": 145,
      "outputs": [
        {
          "output_type": "execute_result",
          "data": {
            "text/plain": [
              "        mileage standard_colour standard_make      standard_model  \\\n",
              "175017  45414.0            Grey    Land Rover  Range Rover Evoque   \n",
              "\n",
              "       vehicle_condition  year_of_registration  price body_type  \\\n",
              "175017              USED                  2016  19025       SUV   \n",
              "\n",
              "        crossover_car_and_van fuel_type  \n",
              "175017                  False    Diesel  "
            ],
            "text/html": [
              "\n",
              "  <div id=\"df-fbc3b5a5-2fd3-494b-9d60-b7fd4b83f958\">\n",
              "    <div class=\"colab-df-container\">\n",
              "      <div>\n",
              "<style scoped>\n",
              "    .dataframe tbody tr th:only-of-type {\n",
              "        vertical-align: middle;\n",
              "    }\n",
              "\n",
              "    .dataframe tbody tr th {\n",
              "        vertical-align: top;\n",
              "    }\n",
              "\n",
              "    .dataframe thead th {\n",
              "        text-align: right;\n",
              "    }\n",
              "</style>\n",
              "<table border=\"1\" class=\"dataframe\">\n",
              "  <thead>\n",
              "    <tr style=\"text-align: right;\">\n",
              "      <th></th>\n",
              "      <th>mileage</th>\n",
              "      <th>standard_colour</th>\n",
              "      <th>standard_make</th>\n",
              "      <th>standard_model</th>\n",
              "      <th>vehicle_condition</th>\n",
              "      <th>year_of_registration</th>\n",
              "      <th>price</th>\n",
              "      <th>body_type</th>\n",
              "      <th>crossover_car_and_van</th>\n",
              "      <th>fuel_type</th>\n",
              "    </tr>\n",
              "  </thead>\n",
              "  <tbody>\n",
              "    <tr>\n",
              "      <th>175017</th>\n",
              "      <td>45414.0</td>\n",
              "      <td>Grey</td>\n",
              "      <td>Land Rover</td>\n",
              "      <td>Range Rover Evoque</td>\n",
              "      <td>USED</td>\n",
              "      <td>2016</td>\n",
              "      <td>19025</td>\n",
              "      <td>SUV</td>\n",
              "      <td>False</td>\n",
              "      <td>Diesel</td>\n",
              "    </tr>\n",
              "  </tbody>\n",
              "</table>\n",
              "</div>\n",
              "      <button class=\"colab-df-convert\" onclick=\"convertToInteractive('df-fbc3b5a5-2fd3-494b-9d60-b7fd4b83f958')\"\n",
              "              title=\"Convert this dataframe to an interactive table.\"\n",
              "              style=\"display:none;\">\n",
              "        \n",
              "  <svg xmlns=\"http://www.w3.org/2000/svg\" height=\"24px\"viewBox=\"0 0 24 24\"\n",
              "       width=\"24px\">\n",
              "    <path d=\"M0 0h24v24H0V0z\" fill=\"none\"/>\n",
              "    <path d=\"M18.56 5.44l.94 2.06.94-2.06 2.06-.94-2.06-.94-.94-2.06-.94 2.06-2.06.94zm-11 1L8.5 8.5l.94-2.06 2.06-.94-2.06-.94L8.5 2.5l-.94 2.06-2.06.94zm10 10l.94 2.06.94-2.06 2.06-.94-2.06-.94-.94-2.06-.94 2.06-2.06.94z\"/><path d=\"M17.41 7.96l-1.37-1.37c-.4-.4-.92-.59-1.43-.59-.52 0-1.04.2-1.43.59L10.3 9.45l-7.72 7.72c-.78.78-.78 2.05 0 2.83L4 21.41c.39.39.9.59 1.41.59.51 0 1.02-.2 1.41-.59l7.78-7.78 2.81-2.81c.8-.78.8-2.07 0-2.86zM5.41 20L4 18.59l7.72-7.72 1.47 1.35L5.41 20z\"/>\n",
              "  </svg>\n",
              "      </button>\n",
              "      \n",
              "  <style>\n",
              "    .colab-df-container {\n",
              "      display:flex;\n",
              "      flex-wrap:wrap;\n",
              "      gap: 12px;\n",
              "    }\n",
              "\n",
              "    .colab-df-convert {\n",
              "      background-color: #E8F0FE;\n",
              "      border: none;\n",
              "      border-radius: 50%;\n",
              "      cursor: pointer;\n",
              "      display: none;\n",
              "      fill: #1967D2;\n",
              "      height: 32px;\n",
              "      padding: 0 0 0 0;\n",
              "      width: 32px;\n",
              "    }\n",
              "\n",
              "    .colab-df-convert:hover {\n",
              "      background-color: #E2EBFA;\n",
              "      box-shadow: 0px 1px 2px rgba(60, 64, 67, 0.3), 0px 1px 3px 1px rgba(60, 64, 67, 0.15);\n",
              "      fill: #174EA6;\n",
              "    }\n",
              "\n",
              "    [theme=dark] .colab-df-convert {\n",
              "      background-color: #3B4455;\n",
              "      fill: #D2E3FC;\n",
              "    }\n",
              "\n",
              "    [theme=dark] .colab-df-convert:hover {\n",
              "      background-color: #434B5C;\n",
              "      box-shadow: 0px 1px 3px 1px rgba(0, 0, 0, 0.15);\n",
              "      filter: drop-shadow(0px 1px 2px rgba(0, 0, 0, 0.3));\n",
              "      fill: #FFFFFF;\n",
              "    }\n",
              "  </style>\n",
              "\n",
              "      <script>\n",
              "        const buttonEl =\n",
              "          document.querySelector('#df-fbc3b5a5-2fd3-494b-9d60-b7fd4b83f958 button.colab-df-convert');\n",
              "        buttonEl.style.display =\n",
              "          google.colab.kernel.accessAllowed ? 'block' : 'none';\n",
              "\n",
              "        async function convertToInteractive(key) {\n",
              "          const element = document.querySelector('#df-fbc3b5a5-2fd3-494b-9d60-b7fd4b83f958');\n",
              "          const dataTable =\n",
              "            await google.colab.kernel.invokeFunction('convertToInteractive',\n",
              "                                                     [key], {});\n",
              "          if (!dataTable) return;\n",
              "\n",
              "          const docLinkHtml = 'Like what you see? Visit the ' +\n",
              "            '<a target=\"_blank\" href=https://colab.research.google.com/notebooks/data_table.ipynb>data table notebook</a>'\n",
              "            + ' to learn more about interactive tables.';\n",
              "          element.innerHTML = '';\n",
              "          dataTable['output_type'] = 'display_data';\n",
              "          await google.colab.output.renderOutput(dataTable, element);\n",
              "          const docLink = document.createElement('div');\n",
              "          docLink.innerHTML = docLinkHtml;\n",
              "          element.appendChild(docLink);\n",
              "        }\n",
              "      </script>\n",
              "    </div>\n",
              "  </div>\n",
              "  "
            ]
          },
          "metadata": {},
          "execution_count": 145
        }
      ]
    },
    {
      "cell_type": "code",
      "source": [
        "greater_1999.isna().sum()"
      ],
      "metadata": {
        "colab": {
          "base_uri": "https://localhost:8080/"
        },
        "id": "85ue9OwpT4Nx",
        "outputId": "da2cb7d3-60af-4387-eed0-ec00a1a62704"
      },
      "execution_count": 146,
      "outputs": [
        {
          "output_type": "execute_result",
          "data": {
            "text/plain": [
              "mileage                   124\n",
              "standard_colour          5200\n",
              "standard_make               0\n",
              "standard_model              0\n",
              "vehicle_condition           0\n",
              "year_of_registration        0\n",
              "price                       0\n",
              "body_type                 782\n",
              "crossover_car_and_van       0\n",
              "fuel_type                 571\n",
              "dtype: int64"
            ]
          },
          "metadata": {},
          "execution_count": 146
        }
      ]
    },
    {
      "cell_type": "code",
      "source": [
        "greater_1999.info()"
      ],
      "metadata": {
        "colab": {
          "base_uri": "https://localhost:8080/"
        },
        "id": "5BXjxkF2fjql",
        "outputId": "aafb9669-14f3-4dad-9f6f-97b99ca2a392"
      },
      "execution_count": 147,
      "outputs": [
        {
          "output_type": "stream",
          "name": "stdout",
          "text": [
            "<class 'pandas.core.frame.DataFrame'>\n",
            "Int64Index: 399921 entries, 0 to 402004\n",
            "Data columns (total 10 columns):\n",
            " #   Column                 Non-Null Count   Dtype  \n",
            "---  ------                 --------------   -----  \n",
            " 0   mileage                399797 non-null  float64\n",
            " 1   standard_colour        394721 non-null  object \n",
            " 2   standard_make          399921 non-null  object \n",
            " 3   standard_model         399921 non-null  object \n",
            " 4   vehicle_condition      399921 non-null  object \n",
            " 5   year_of_registration   399921 non-null  int64  \n",
            " 6   price                  399921 non-null  int64  \n",
            " 7   body_type              399139 non-null  object \n",
            " 8   crossover_car_and_van  399921 non-null  bool   \n",
            " 9   fuel_type              399350 non-null  object \n",
            "dtypes: bool(1), float64(1), int64(2), object(6)\n",
            "memory usage: 39.0+ MB\n"
          ]
        }
      ]
    },
    {
      "cell_type": "code",
      "source": [
        "greater_1999.describe().round(2).transpose()"
      ],
      "metadata": {
        "colab": {
          "base_uri": "https://localhost:8080/",
          "height": 143
        },
        "id": "pU_TOhRPfRdm",
        "outputId": "c2ee1f85-83ba-4749-a34a-b6536aad4772"
      },
      "execution_count": 148,
      "outputs": [
        {
          "output_type": "execute_result",
          "data": {
            "text/plain": [
              "                         count      mean       std     min      25%      50%  \\\n",
              "mileage               399797.0  37518.45  34620.57     0.0  10396.0  28449.0   \n",
              "year_of_registration  399921.0   2015.68      4.04  2000.0   2014.0   2017.0   \n",
              "price                 399921.0  17261.10  46061.68   120.0   7495.0  12642.0   \n",
              "\n",
              "                          75%        max  \n",
              "mileage               56284.0   999999.0  \n",
              "year_of_registration   2019.0     2021.0  \n",
              "price                 20000.0  9999999.0  "
            ],
            "text/html": [
              "\n",
              "  <div id=\"df-dc21707b-ff2a-4710-abe3-af56bf5416e5\">\n",
              "    <div class=\"colab-df-container\">\n",
              "      <div>\n",
              "<style scoped>\n",
              "    .dataframe tbody tr th:only-of-type {\n",
              "        vertical-align: middle;\n",
              "    }\n",
              "\n",
              "    .dataframe tbody tr th {\n",
              "        vertical-align: top;\n",
              "    }\n",
              "\n",
              "    .dataframe thead th {\n",
              "        text-align: right;\n",
              "    }\n",
              "</style>\n",
              "<table border=\"1\" class=\"dataframe\">\n",
              "  <thead>\n",
              "    <tr style=\"text-align: right;\">\n",
              "      <th></th>\n",
              "      <th>count</th>\n",
              "      <th>mean</th>\n",
              "      <th>std</th>\n",
              "      <th>min</th>\n",
              "      <th>25%</th>\n",
              "      <th>50%</th>\n",
              "      <th>75%</th>\n",
              "      <th>max</th>\n",
              "    </tr>\n",
              "  </thead>\n",
              "  <tbody>\n",
              "    <tr>\n",
              "      <th>mileage</th>\n",
              "      <td>399797.0</td>\n",
              "      <td>37518.45</td>\n",
              "      <td>34620.57</td>\n",
              "      <td>0.0</td>\n",
              "      <td>10396.0</td>\n",
              "      <td>28449.0</td>\n",
              "      <td>56284.0</td>\n",
              "      <td>999999.0</td>\n",
              "    </tr>\n",
              "    <tr>\n",
              "      <th>year_of_registration</th>\n",
              "      <td>399921.0</td>\n",
              "      <td>2015.68</td>\n",
              "      <td>4.04</td>\n",
              "      <td>2000.0</td>\n",
              "      <td>2014.0</td>\n",
              "      <td>2017.0</td>\n",
              "      <td>2019.0</td>\n",
              "      <td>2021.0</td>\n",
              "    </tr>\n",
              "    <tr>\n",
              "      <th>price</th>\n",
              "      <td>399921.0</td>\n",
              "      <td>17261.10</td>\n",
              "      <td>46061.68</td>\n",
              "      <td>120.0</td>\n",
              "      <td>7495.0</td>\n",
              "      <td>12642.0</td>\n",
              "      <td>20000.0</td>\n",
              "      <td>9999999.0</td>\n",
              "    </tr>\n",
              "  </tbody>\n",
              "</table>\n",
              "</div>\n",
              "      <button class=\"colab-df-convert\" onclick=\"convertToInteractive('df-dc21707b-ff2a-4710-abe3-af56bf5416e5')\"\n",
              "              title=\"Convert this dataframe to an interactive table.\"\n",
              "              style=\"display:none;\">\n",
              "        \n",
              "  <svg xmlns=\"http://www.w3.org/2000/svg\" height=\"24px\"viewBox=\"0 0 24 24\"\n",
              "       width=\"24px\">\n",
              "    <path d=\"M0 0h24v24H0V0z\" fill=\"none\"/>\n",
              "    <path d=\"M18.56 5.44l.94 2.06.94-2.06 2.06-.94-2.06-.94-.94-2.06-.94 2.06-2.06.94zm-11 1L8.5 8.5l.94-2.06 2.06-.94-2.06-.94L8.5 2.5l-.94 2.06-2.06.94zm10 10l.94 2.06.94-2.06 2.06-.94-2.06-.94-.94-2.06-.94 2.06-2.06.94z\"/><path d=\"M17.41 7.96l-1.37-1.37c-.4-.4-.92-.59-1.43-.59-.52 0-1.04.2-1.43.59L10.3 9.45l-7.72 7.72c-.78.78-.78 2.05 0 2.83L4 21.41c.39.39.9.59 1.41.59.51 0 1.02-.2 1.41-.59l7.78-7.78 2.81-2.81c.8-.78.8-2.07 0-2.86zM5.41 20L4 18.59l7.72-7.72 1.47 1.35L5.41 20z\"/>\n",
              "  </svg>\n",
              "      </button>\n",
              "      \n",
              "  <style>\n",
              "    .colab-df-container {\n",
              "      display:flex;\n",
              "      flex-wrap:wrap;\n",
              "      gap: 12px;\n",
              "    }\n",
              "\n",
              "    .colab-df-convert {\n",
              "      background-color: #E8F0FE;\n",
              "      border: none;\n",
              "      border-radius: 50%;\n",
              "      cursor: pointer;\n",
              "      display: none;\n",
              "      fill: #1967D2;\n",
              "      height: 32px;\n",
              "      padding: 0 0 0 0;\n",
              "      width: 32px;\n",
              "    }\n",
              "\n",
              "    .colab-df-convert:hover {\n",
              "      background-color: #E2EBFA;\n",
              "      box-shadow: 0px 1px 2px rgba(60, 64, 67, 0.3), 0px 1px 3px 1px rgba(60, 64, 67, 0.15);\n",
              "      fill: #174EA6;\n",
              "    }\n",
              "\n",
              "    [theme=dark] .colab-df-convert {\n",
              "      background-color: #3B4455;\n",
              "      fill: #D2E3FC;\n",
              "    }\n",
              "\n",
              "    [theme=dark] .colab-df-convert:hover {\n",
              "      background-color: #434B5C;\n",
              "      box-shadow: 0px 1px 3px 1px rgba(0, 0, 0, 0.15);\n",
              "      filter: drop-shadow(0px 1px 2px rgba(0, 0, 0, 0.3));\n",
              "      fill: #FFFFFF;\n",
              "    }\n",
              "  </style>\n",
              "\n",
              "      <script>\n",
              "        const buttonEl =\n",
              "          document.querySelector('#df-dc21707b-ff2a-4710-abe3-af56bf5416e5 button.colab-df-convert');\n",
              "        buttonEl.style.display =\n",
              "          google.colab.kernel.accessAllowed ? 'block' : 'none';\n",
              "\n",
              "        async function convertToInteractive(key) {\n",
              "          const element = document.querySelector('#df-dc21707b-ff2a-4710-abe3-af56bf5416e5');\n",
              "          const dataTable =\n",
              "            await google.colab.kernel.invokeFunction('convertToInteractive',\n",
              "                                                     [key], {});\n",
              "          if (!dataTable) return;\n",
              "\n",
              "          const docLinkHtml = 'Like what you see? Visit the ' +\n",
              "            '<a target=\"_blank\" href=https://colab.research.google.com/notebooks/data_table.ipynb>data table notebook</a>'\n",
              "            + ' to learn more about interactive tables.';\n",
              "          element.innerHTML = '';\n",
              "          dataTable['output_type'] = 'display_data';\n",
              "          await google.colab.output.renderOutput(dataTable, element);\n",
              "          const docLink = document.createElement('div');\n",
              "          docLink.innerHTML = docLinkHtml;\n",
              "          element.appendChild(docLink);\n",
              "        }\n",
              "      </script>\n",
              "    </div>\n",
              "  </div>\n",
              "  "
            ]
          },
          "metadata": {},
          "execution_count": 148
        }
      ]
    },
    {
      "cell_type": "code",
      "source": [],
      "metadata": {
        "id": "GaJ3tYUgtTKt"
      },
      "execution_count": 148,
      "outputs": []
    },
    {
      "cell_type": "code",
      "source": [
        "sns.histplot(data=greater_1999, y='vehicle_condition');\n"
      ],
      "metadata": {
        "colab": {
          "base_uri": "https://localhost:8080/",
          "height": 279
        },
        "id": "qI6rfw-yy8_Z",
        "outputId": "7e23a82a-fe5b-4419-ce86-a5b4b429b9f8"
      },
      "execution_count": 149,
      "outputs": [
        {
          "output_type": "display_data",
          "data": {
            "text/plain": [
              "<Figure size 432x288 with 1 Axes>"
            ],
            "image/png": "[encoded data removed]"
          },
          "metadata": {
            "needs_background": "light"
          }
        }
      ]
    },
    {
      "cell_type": "code",
      "source": [
        "sns.boxplot(y=greater_1999.loc[greater_1999['price']>300000, 'price']);"
      ],
      "metadata": {
        "colab": {
          "base_uri": "https://localhost:8080/",
          "height": 263
        },
        "id": "tS2Dk5Wo_joi",
        "outputId": "6b8cff55-4942-4aaf-a556-ffc288251475"
      },
      "execution_count": 150,
      "outputs": [
        {
          "output_type": "display_data",
          "data": {
            "text/plain": [
              "<Figure size 432x288 with 1 Axes>"
            ],
            "image/png": "[encoded data removed]"
          },
          "metadata": {
            "needs_background": "light"
          }
        }
      ]
    },
    {
      "cell_type": "code",
      "source": [
        "\n",
        "#greater_1999[greater_1999['price']>800000]"
      ],
      "metadata": {
        "id": "zEZuDDVeD2_6"
      },
      "execution_count": 151,
      "outputs": []
    },
    {
      "cell_type": "code",
      "source": [
        "greater_1999['price'].describe().round(2)"
      ],
      "metadata": {
        "colab": {
          "base_uri": "https://localhost:8080/"
        },
        "id": "bwEu69rfAfHA",
        "outputId": "92af4eb8-651c-4f96-b974-5595313ea8f5"
      },
      "execution_count": 152,
      "outputs": [
        {
          "output_type": "execute_result",
          "data": {
            "text/plain": [
              "count     399921.00\n",
              "mean       17261.10\n",
              "std        46061.68\n",
              "min          120.00\n",
              "25%         7495.00\n",
              "50%        12642.00\n",
              "75%        20000.00\n",
              "max      9999999.00\n",
              "Name: price, dtype: float64"
            ]
          },
          "metadata": {},
          "execution_count": 152
        }
      ]
    },
    {
      "cell_type": "code",
      "source": [
        "greater_1999.isna().sum()"
      ],
      "metadata": {
        "id": "sHTbnj_ZiaeP",
        "colab": {
          "base_uri": "https://localhost:8080/"
        },
        "outputId": "684a4653-cb18-4009-ef70-6eff5e442d23"
      },
      "execution_count": 153,
      "outputs": [
        {
          "output_type": "execute_result",
          "data": {
            "text/plain": [
              "mileage                   124\n",
              "standard_colour          5200\n",
              "standard_make               0\n",
              "standard_model              0\n",
              "vehicle_condition           0\n",
              "year_of_registration        0\n",
              "price                       0\n",
              "body_type                 782\n",
              "crossover_car_and_van       0\n",
              "fuel_type                 571\n",
              "dtype: int64"
            ]
          },
          "metadata": {},
          "execution_count": 153
        }
      ]
    },
    {
      "cell_type": "markdown",
      "source": [
        "\n",
        "\n",
        "```\n",
        "# This is formatted as code\n",
        "```\n",
        "\n",
        "# Dealing with Missing Values"
      ],
      "metadata": {
        "id": "19Bvov8Utesv"
      }
    },
    {
      "cell_type": "code",
      "source": [
        "greater_1999['mileage'] = greater_1999['mileage'].fillna(greater_1999['mileage'].mean())\n",
        "greater_1999 = greater_1999.dropna()"
      ],
      "metadata": {
        "id": "zxWlYPgHtmU0"
      },
      "execution_count": 154,
      "outputs": []
    },
    {
      "cell_type": "code",
      "source": [
        "greater_1999.isna().sum()"
      ],
      "metadata": {
        "colab": {
          "base_uri": "https://localhost:8080/"
        },
        "id": "XdsFgbfF--CZ",
        "outputId": "33f93c47-c03c-46ba-ca9d-5b566da234f1"
      },
      "execution_count": 155,
      "outputs": [
        {
          "output_type": "execute_result",
          "data": {
            "text/plain": [
              "mileage                  0\n",
              "standard_colour          0\n",
              "standard_make            0\n",
              "standard_model           0\n",
              "vehicle_condition        0\n",
              "year_of_registration     0\n",
              "price                    0\n",
              "body_type                0\n",
              "crossover_car_and_van    0\n",
              "fuel_type                0\n",
              "dtype: int64"
            ]
          },
          "metadata": {},
          "execution_count": 155
        }
      ]
    },
    {
      "cell_type": "code",
      "source": [
        "greater_1999.info()"
      ],
      "metadata": {
        "colab": {
          "base_uri": "https://localhost:8080/"
        },
        "id": "MgvXDbheCyyB",
        "outputId": "d8d7c868-8b60-4b39-f3ca-e1bba07a657c"
      },
      "execution_count": 156,
      "outputs": [
        {
          "output_type": "stream",
          "name": "stdout",
          "text": [
            "<class 'pandas.core.frame.DataFrame'>\n",
            "Int64Index: 393517 entries, 0 to 402004\n",
            "Data columns (total 10 columns):\n",
            " #   Column                 Non-Null Count   Dtype  \n",
            "---  ------                 --------------   -----  \n",
            " 0   mileage                393517 non-null  float64\n",
            " 1   standard_colour        393517 non-null  object \n",
            " 2   standard_make          393517 non-null  object \n",
            " 3   standard_model         393517 non-null  object \n",
            " 4   vehicle_condition      393517 non-null  object \n",
            " 5   year_of_registration   393517 non-null  int64  \n",
            " 6   price                  393517 non-null  int64  \n",
            " 7   body_type              393517 non-null  object \n",
            " 8   crossover_car_and_van  393517 non-null  bool   \n",
            " 9   fuel_type              393517 non-null  object \n",
            "dtypes: bool(1), float64(1), int64(2), object(6)\n",
            "memory usage: 30.4+ MB\n"
          ]
        }
      ]
    },
    {
      "cell_type": "code",
      "source": [
        "#sns.pairplot(greater_1999, height=1.5)"
      ],
      "metadata": {
        "id": "YrDOanypDEZ5"
      },
      "execution_count": 157,
      "outputs": []
    },
    {
      "cell_type": "code",
      "source": [
        "\n",
        "sns.histplot(greater_1999['mileage']);"
      ],
      "metadata": {
        "colab": {
          "base_uri": "https://localhost:8080/",
          "height": 279
        },
        "id": "Yif9vnjD_PXg",
        "outputId": "3ef92803-c0f9-48f9-f501-409c15b6e5e4"
      },
      "execution_count": 158,
      "outputs": [
        {
          "output_type": "display_data",
          "data": {
            "text/plain": [
              "<Figure size 432x288 with 1 Axes>"
            ],
            "image/png": "[encoded data removed]"
          },
          "metadata": {
            "needs_background": "light"
          }
        }
      ]
    },
    {
      "cell_type": "code",
      "source": [
        "#sns.histplot(greater_1999.loc[greater_1999['price']>0, 'price']);\n",
        "ax = sns.histplot(np.log10(greater_1999.loc[greater_1999['price']>100, 'price']))\n",
        "ax.set_xticks(range(0,6))\n",
        "ax.set_xticklabels(np.power(10, range(0,6)));"
      ],
      "metadata": {
        "colab": {
          "base_uri": "https://localhost:8080/",
          "height": 279
        },
        "id": "6P-NOLrED98m",
        "outputId": "2a1c08fc-63f5-4643-bd94-1f017e296259"
      },
      "execution_count": 159,
      "outputs": [
        {
          "output_type": "display_data",
          "data": {
            "text/plain": [
              "<Figure size 432x288 with 1 Axes>"
            ],
            "image/png": "[encoded data removed]"
          },
          "metadata": {
            "needs_background": "light"
          }
        }
      ]
    },
    {
      "cell_type": "code",
      "source": [
        "greater_1999.describe()"
      ],
      "metadata": {
        "colab": {
          "base_uri": "https://localhost:8080/",
          "height": 300
        },
        "id": "3XIeNmPtF-iH",
        "outputId": "0ff0aba1-8366-4c0a-af93-b474345679e6"
      },
      "execution_count": 160,
      "outputs": [
        {
          "output_type": "execute_result",
          "data": {
            "text/plain": [
              "             mileage  year_of_registration         price\n",
              "count  393517.000000         393517.000000  3.935170e+05\n",
              "mean    37593.054903           2015.665293  1.707552e+04\n",
              "std     34531.924109              4.021993  4.533644e+04\n",
              "min         0.000000           2000.000000  1.200000e+02\n",
              "25%     10609.000000           2014.000000  7.495000e+03\n",
              "50%     28591.000000           2017.000000  1.251900e+04\n",
              "75%     56260.000000           2018.000000  1.999500e+04\n",
              "max    999999.000000           2021.000000  9.999999e+06"
            ],
            "text/html": [
              "\n",
              "  <div id=\"df-a1819fdb-6960-4327-a7b4-85ba54361e4a\">\n",
              "    <div class=\"colab-df-container\">\n",
              "      <div>\n",
              "<style scoped>\n",
              "    .dataframe tbody tr th:only-of-type {\n",
              "        vertical-align: middle;\n",
              "    }\n",
              "\n",
              "    .dataframe tbody tr th {\n",
              "        vertical-align: top;\n",
              "    }\n",
              "\n",
              "    .dataframe thead th {\n",
              "        text-align: right;\n",
              "    }\n",
              "</style>\n",
              "<table border=\"1\" class=\"dataframe\">\n",
              "  <thead>\n",
              "    <tr style=\"text-align: right;\">\n",
              "      <th></th>\n",
              "      <th>mileage</th>\n",
              "      <th>year_of_registration</th>\n",
              "      <th>price</th>\n",
              "    </tr>\n",
              "  </thead>\n",
              "  <tbody>\n",
              "    <tr>\n",
              "      <th>count</th>\n",
              "      <td>393517.000000</td>\n",
              "      <td>393517.000000</td>\n",
              "      <td>3.935170e+05</td>\n",
              "    </tr>\n",
              "    <tr>\n",
              "      <th>mean</th>\n",
              "      <td>37593.054903</td>\n",
              "      <td>2015.665293</td>\n",
              "      <td>1.707552e+04</td>\n",
              "    </tr>\n",
              "    <tr>\n",
              "      <th>std</th>\n",
              "      <td>34531.924109</td>\n",
              "      <td>4.021993</td>\n",
              "      <td>4.533644e+04</td>\n",
              "    </tr>\n",
              "    <tr>\n",
              "      <th>min</th>\n",
              "      <td>0.000000</td>\n",
              "      <td>2000.000000</td>\n",
              "      <td>1.200000e+02</td>\n",
              "    </tr>\n",
              "    <tr>\n",
              "      <th>25%</th>\n",
              "      <td>10609.000000</td>\n",
              "      <td>2014.000000</td>\n",
              "      <td>7.495000e+03</td>\n",
              "    </tr>\n",
              "    <tr>\n",
              "      <th>50%</th>\n",
              "      <td>28591.000000</td>\n",
              "      <td>2017.000000</td>\n",
              "      <td>1.251900e+04</td>\n",
              "    </tr>\n",
              "    <tr>\n",
              "      <th>75%</th>\n",
              "      <td>56260.000000</td>\n",
              "      <td>2018.000000</td>\n",
              "      <td>1.999500e+04</td>\n",
              "    </tr>\n",
              "    <tr>\n",
              "      <th>max</th>\n",
              "      <td>999999.000000</td>\n",
              "      <td>2021.000000</td>\n",
              "      <td>9.999999e+06</td>\n",
              "    </tr>\n",
              "  </tbody>\n",
              "</table>\n",
              "</div>\n",
              "      <button class=\"colab-df-convert\" onclick=\"convertToInteractive('df-a1819fdb-6960-4327-a7b4-85ba54361e4a')\"\n",
              "              title=\"Convert this dataframe to an interactive table.\"\n",
              "              style=\"display:none;\">\n",
              "        \n",
              "  <svg xmlns=\"http://www.w3.org/2000/svg\" height=\"24px\"viewBox=\"0 0 24 24\"\n",
              "       width=\"24px\">\n",
              "    <path d=\"M0 0h24v24H0V0z\" fill=\"none\"/>\n",
              "    <path d=\"M18.56 5.44l.94 2.06.94-2.06 2.06-.94-2.06-.94-.94-2.06-.94 2.06-2.06.94zm-11 1L8.5 8.5l.94-2.06 2.06-.94-2.06-.94L8.5 2.5l-.94 2.06-2.06.94zm10 10l.94 2.06.94-2.06 2.06-.94-2.06-.94-.94-2.06-.94 2.06-2.06.94z\"/><path d=\"M17.41 7.96l-1.37-1.37c-.4-.4-.92-.59-1.43-.59-.52 0-1.04.2-1.43.59L10.3 9.45l-7.72 7.72c-.78.78-.78 2.05 0 2.83L4 21.41c.39.39.9.59 1.41.59.51 0 1.02-.2 1.41-.59l7.78-7.78 2.81-2.81c.8-.78.8-2.07 0-2.86zM5.41 20L4 18.59l7.72-7.72 1.47 1.35L5.41 20z\"/>\n",
              "  </svg>\n",
              "      </button>\n",
              "      \n",
              "  <style>\n",
              "    .colab-df-container {\n",
              "      display:flex;\n",
              "      flex-wrap:wrap;\n",
              "      gap: 12px;\n",
              "    }\n",
              "\n",
              "    .colab-df-convert {\n",
              "      background-color: #E8F0FE;\n",
              "      border: none;\n",
              "      border-radius: 50%;\n",
              "      cursor: pointer;\n",
              "      display: none;\n",
              "      fill: #1967D2;\n",
              "      height: 32px;\n",
              "      padding: 0 0 0 0;\n",
              "      width: 32px;\n",
              "    }\n",
              "\n",
              "    .colab-df-convert:hover {\n",
              "      background-color: #E2EBFA;\n",
              "      box-shadow: 0px 1px 2px rgba(60, 64, 67, 0.3), 0px 1px 3px 1px rgba(60, 64, 67, 0.15);\n",
              "      fill: #174EA6;\n",
              "    }\n",
              "\n",
              "    [theme=dark] .colab-df-convert {\n",
              "      background-color: #3B4455;\n",
              "      fill: #D2E3FC;\n",
              "    }\n",
              "\n",
              "    [theme=dark] .colab-df-convert:hover {\n",
              "      background-color: #434B5C;\n",
              "      box-shadow: 0px 1px 3px 1px rgba(0, 0, 0, 0.15);\n",
              "      filter: drop-shadow(0px 1px 2px rgba(0, 0, 0, 0.3));\n",
              "      fill: #FFFFFF;\n",
              "    }\n",
              "  </style>\n",
              "\n",
              "      <script>\n",
              "        const buttonEl =\n",
              "          document.querySelector('#df-a1819fdb-6960-4327-a7b4-85ba54361e4a button.colab-df-convert');\n",
              "        buttonEl.style.display =\n",
              "          google.colab.kernel.accessAllowed ? 'block' : 'none';\n",
              "\n",
              "        async function convertToInteractive(key) {\n",
              "          const element = document.querySelector('#df-a1819fdb-6960-4327-a7b4-85ba54361e4a');\n",
              "          const dataTable =\n",
              "            await google.colab.kernel.invokeFunction('convertToInteractive',\n",
              "                                                     [key], {});\n",
              "          if (!dataTable) return;\n",
              "\n",
              "          const docLinkHtml = 'Like what you see? Visit the ' +\n",
              "            '<a target=\"_blank\" href=https://colab.research.google.com/notebooks/data_table.ipynb>data table notebook</a>'\n",
              "            + ' to learn more about interactive tables.';\n",
              "          element.innerHTML = '';\n",
              "          dataTable['output_type'] = 'display_data';\n",
              "          await google.colab.output.renderOutput(dataTable, element);\n",
              "          const docLink = document.createElement('div');\n",
              "          docLink.innerHTML = docLinkHtml;\n",
              "          element.appendChild(docLink);\n",
              "        }\n",
              "      </script>\n",
              "    </div>\n",
              "  </div>\n",
              "  "
            ]
          },
          "metadata": {},
          "execution_count": 160
        }
      ]
    },
    {
      "cell_type": "code",
      "source": [
        "greater_1999['price'].tail()"
      ],
      "metadata": {
        "colab": {
          "base_uri": "https://localhost:8080/"
        },
        "id": "ey7n0WTfI1E_",
        "outputId": "1cb55911-81c5-4dc1-cad5-4b90047f272b"
      },
      "execution_count": 161,
      "outputs": [
        {
          "output_type": "execute_result",
          "data": {
            "text/plain": [
              "402000    10595\n",
              "402001     2000\n",
              "402002     7250\n",
              "402003    11490\n",
              "402004    20520\n",
              "Name: price, dtype: int64"
            ]
          },
          "metadata": {},
          "execution_count": 161
        }
      ]
    },
    {
      "cell_type": "code",
      "source": [
        "ax = sns.histplot(np.log10(greater_1999.loc[greater_1999['mileage']>0, 'mileage']))\n",
        "ax.set_xticks(range(0,5))\n",
        "ax.set_xticklabels(np.power(10, range(0,5)));"
      ],
      "metadata": {
        "colab": {
          "base_uri": "https://localhost:8080/",
          "height": 279
        },
        "id": "TI6_foUB_aD2",
        "outputId": "666b4aa5-0ff4-48a0-d4af-3bde304658d4"
      },
      "execution_count": 162,
      "outputs": [
        {
          "output_type": "display_data",
          "data": {
            "text/plain": [
              "<Figure size 432x288 with 1 Axes>"
            ],
            "image/png": "[encoded data removed]"
          },
          "metadata": {
            "needs_background": "light"
          }
        }
      ]
    },
    {
      "cell_type": "code",
      "source": [
        "plt.figure(figsize=(20,8))\n",
        "plt.subplot(1,2,1)\n",
        "plt.title('Fuel Type Histogram')\n",
        "sns.countplot(greater_1999['fuel_type'], palette=('Blues_d'))\n",
        "\n",
        "plt.subplot(1,2,2)\n",
        "plt.title('Fuel Type vs Price')\n",
        "sns.boxplot(x=greater_1999['fuel_type'], y=greater_1999['price'], palette='PuBuGn')\n",
        "\n",
        "plt.show()\n",
        "\n",
        "test = pd.DataFrame(greater_1999.groupby(['fuel_type'])['price'].mean().sort_values(ascending=False))\n",
        "test.plot.bar(figsize=(8,6))\n",
        "plt.title('Fuel Type vs Average Price')\n",
        "plt.show()"
      ],
      "metadata": {
        "colab": {
          "base_uri": "https://localhost:8080/",
          "height": 949
        },
        "id": "EufRUZwh_nWZ",
        "outputId": "bb27fa70-e28f-48b3-d950-be593b922164"
      },
      "execution_count": 163,
      "outputs": [
        {
          "output_type": "stream",
          "name": "stderr",
          "text": [
            "/usr/local/lib/python3.8/dist-packages/seaborn/_decorators.py:36: FutureWarning: Pass the following variable as a keyword arg: x. From version 0.12, the only valid positional argument will be `data`, and passing other arguments without an explicit keyword will result in an error or misinterpretation.\n",
            "  warnings.warn(\n"
          ]
        },
        {
          "output_type": "display_data",
          "data": {
            "text/plain": [
              "<Figure size 1440x576 with 2 Axes>"
            ],
            "image/png": "[encoded data removed]"
          },
          "metadata": {
            "needs_background": "light"
          }
        },
        {
          "output_type": "display_data",
          "data": {
            "text/plain": [
              "<Figure size 576x432 with 1 Axes>"
            ],
            "image/png": "[encoded data removed]"
          },
          "metadata": {
            "needs_background": "light"
          }
        }
      ]
    },
    {
      "cell_type": "markdown",
      "source": [
        "# Top features "
      ],
      "metadata": {
        "id": "tv0C6WlXSBZ1"
      }
    },
    {
      "cell_type": "markdown",
      "source": [
        "What is the top 10 car model?"
      ],
      "metadata": {
        "id": "W5jN9aSeSG2d"
      }
    },
    {
      "cell_type": "code",
      "source": [
        "top_maker = greater_1999['standard_make'].value_counts().head(10)\n",
        "top_maker.plot.bar(figsize=(10,6));"
      ],
      "metadata": {
        "colab": {
          "base_uri": "https://localhost:8080/",
          "height": 440
        },
        "id": "sfqj_jQFdVbg",
        "outputId": "5d0336b0-fb4d-4321-8edc-415a2c250bc9"
      },
      "execution_count": 192,
      "outputs": [
        {
          "output_type": "display_data",
          "data": {
            "text/plain": [
              "<Figure size 720x432 with 1 Axes>"
            ],
            "image/png": "[encoded data removed]"
          },
          "metadata": {
            "needs_background": "light"
          }
        }
      ]
    },
    {
      "cell_type": "code",
      "source": [
        "top_maker"
      ],
      "metadata": {
        "colab": {
          "base_uri": "https://localhost:8080/"
        },
        "id": "yiQf64DETQLF",
        "outputId": "ee555f34-5cb4-41ea-f455-0c45fc4de8eb"
      },
      "execution_count": 193,
      "outputs": [
        {
          "output_type": "execute_result",
          "data": {
            "text/plain": [
              "BMW              36744\n",
              "Audi             34822\n",
              "Volkswagen       33687\n",
              "Vauxhall         33067\n",
              "Mercedes-Benz    31291\n",
              "Nissan           19658\n",
              "Toyota           17195\n",
              "Peugeot          14957\n",
              "Land Rover       14274\n",
              "Renault          12512\n",
              "Name: standard_make, dtype: int64"
            ]
          },
          "metadata": {},
          "execution_count": 193
        }
      ]
    },
    {
      "cell_type": "markdown",
      "source": [
        "What are the top 5 body types?"
      ],
      "metadata": {
        "id": "HV8VCcC2i8jd"
      }
    },
    {
      "cell_type": "code",
      "source": [
        "top_body_type = greater_1999.value_counts('body_type').head()\n",
        "top_body_type.plot.bar(figsize=(8,6))"
      ],
      "metadata": {
        "colab": {
          "base_uri": "https://localhost:8080/",
          "height": 449
        },
        "id": "xZgQONlKfL7k",
        "outputId": "42d9d544-dd9c-42ed-d646-a2acf25c6819"
      },
      "execution_count": 211,
      "outputs": [
        {
          "output_type": "execute_result",
          "data": {
            "text/plain": [
              "<matplotlib.axes._subplots.AxesSubplot at 0x7fac67ff77f0>"
            ]
          },
          "metadata": {},
          "execution_count": 211
        },
        {
          "output_type": "display_data",
          "data": {
            "text/plain": [
              "<Figure size 576x432 with 1 Axes>"
            ],
            "image/png": "[encoded data removed]"
          },
          "metadata": {
            "needs_background": "light"
          }
        }
      ]
    },
    {
      "cell_type": "markdown",
      "source": [
        "What are the top 5 colours across brands?"
      ],
      "metadata": {
        "id": "SFu5lY4EYdq6"
      }
    },
    {
      "cell_type": "code",
      "source": [
        "top_colors = greater_1999['standard_colour'].value_counts().head()\n",
        "top_colors.plot.bar()"
      ],
      "metadata": {
        "colab": {
          "base_uri": "https://localhost:8080/",
          "height": 301
        },
        "id": "z7kvFlLjYjpj",
        "outputId": "9f7c02e5-debf-4c54-eacb-6daea93db2ef"
      },
      "execution_count": 177,
      "outputs": [
        {
          "output_type": "execute_result",
          "data": {
            "text/plain": [
              "<matplotlib.axes._subplots.AxesSubplot at 0x7fac68c33fa0>"
            ]
          },
          "metadata": {},
          "execution_count": 177
        },
        {
          "output_type": "display_data",
          "data": {
            "text/plain": [
              "<Figure size 432x288 with 1 Axes>"
            ],
            "image/png": "[encoded data removed]"
          },
          "metadata": {
            "needs_background": "light"
          }
        }
      ]
    },
    {
      "cell_type": "markdown",
      "source": [
        "Does color affect price?"
      ],
      "metadata": {
        "id": "tPy4W_ERaWuL"
      }
    },
    {
      "cell_type": "code",
      "source": [
        "col_vs_price = pd.DataFrame(greater_1999.groupby(['standard_colour'])['price'].mean().sort_values(ascending=False))\n",
        "col_vs_price.plot.bar(figsize=(8,6))\n",
        "plt.title('Colour vs Average Price')\n",
        "plt.show()"
      ],
      "metadata": {
        "colab": {
          "base_uri": "https://localhost:8080/",
          "height": 450
        },
        "id": "8wl3W7l9aaHV",
        "outputId": "a3865523-7eeb-49c1-c8e1-f8477a66ace4"
      },
      "execution_count": 182,
      "outputs": [
        {
          "output_type": "display_data",
          "data": {
            "text/plain": [
              "<Figure size 576x432 with 1 Axes>"
            ],
            "image/png": "[encoded data removed]"
          },
          "metadata": {
            "needs_background": "light"
          }
        }
      ]
    },
    {
      "cell_type": "markdown",
      "source": [
        "What condition are the top body types?\n",
        "What condition are the top maker type?"
      ],
      "metadata": {
        "id": "QPabJuNic90i"
      }
    },
    {
      "cell_type": "code",
      "source": [
        "body_type_condition = greater_1999.value_counts(['body_type', 'vehicle_condition']).head(10)\n",
        "body_type_condition #The first 5 are all used cars, how about extending the list to 10?\n",
        "body_type_condition.unstack().plot.bar()"
      ],
      "metadata": {
        "colab": {
          "base_uri": "https://localhost:8080/",
          "height": 345
        },
        "id": "u6rSKte0dJI6",
        "outputId": "b8f12e8d-e50e-4989-e6b3-4a8929346764"
      },
      "execution_count": 215,
      "outputs": [
        {
          "output_type": "execute_result",
          "data": {
            "text/plain": [
              "<matplotlib.axes._subplots.AxesSubplot at 0x7fac67fdd670>"
            ]
          },
          "metadata": {},
          "execution_count": 215
        },
        {
          "output_type": "display_data",
          "data": {
            "text/plain": [
              "<Figure size 432x288 with 1 Axes>"
            ],
            "image/png": "[encoded data removed]"
          },
          "metadata": {
            "needs_background": "light"
          }
        }
      ]
    },
    {
      "cell_type": "code",
      "source": [
        "maker_type_condition = greater_1999.value_counts(['standard_make', 'vehicle_condition']).head(10)\n",
        "maker_type_condition #the first 5 are also used, how about extending to 10\n",
        "maker_type_condition.unstack().plot.bar()"
      ],
      "metadata": {
        "colab": {
          "base_uri": "https://localhost:8080/",
          "height": 363
        },
        "id": "iQfSe4J2kZ0a",
        "outputId": "c5a3cc0a-b3f4-4100-c14a-6950862f2d28"
      },
      "execution_count": 217,
      "outputs": [
        {
          "output_type": "execute_result",
          "data": {
            "text/plain": [
              "<matplotlib.axes._subplots.AxesSubplot at 0x7fac686c7640>"
            ]
          },
          "metadata": {},
          "execution_count": 217
        },
        {
          "output_type": "display_data",
          "data": {
            "text/plain": [
              "<Figure size 432x288 with 1 Axes>"
            ],
            "image/png": "[encoded data removed]"
          },
          "metadata": {
            "needs_background": "light"
          }
        }
      ]
    },
    {
      "cell_type": "markdown",
      "source": [
        "What fuel types are the top makers and top body type made of?\n"
      ],
      "metadata": {
        "id": "1Yw-vrc7lPy3"
      }
    },
    {
      "cell_type": "code",
      "source": [
        "top_maker_fuel_type = greater_1999.value_counts(['standard_make', 'fuel_type']).head(10)\n",
        "top_maker_fuel_type \n",
        "top_maker_fuel_type.unstack().plot.bar();"
      ],
      "metadata": {
        "colab": {
          "base_uri": "https://localhost:8080/",
          "height": 346
        },
        "id": "Ez_TOk1PlXIZ",
        "outputId": "d874d437-7da6-4c0d-a02b-7dbc92322bb7"
      },
      "execution_count": 222,
      "outputs": [
        {
          "output_type": "display_data",
          "data": {
            "text/plain": [
              "<Figure size 432x288 with 1 Axes>"
            ],
            "image/png": "[encoded data removed]"
          },
          "metadata": {
            "needs_background": "light"
          }
        }
      ]
    },
    {
      "cell_type": "code",
      "source": [
        "top_body_fuel_type = greater_1999.value_counts(['body_type', 'fuel_type']).head()\n",
        "top_body_fuel_type \n",
        "top_body_fuel_type.unstack().plot.bar();"
      ],
      "metadata": {
        "colab": {
          "base_uri": "https://localhost:8080/",
          "height": 340
        },
        "id": "eD4C14-rmOHj",
        "outputId": "125371bd-bc93-4210-8b18-e7965dfbb68d"
      },
      "execution_count": 220,
      "outputs": [
        {
          "output_type": "execute_result",
          "data": {
            "text/plain": [
              "<matplotlib.axes._subplots.AxesSubplot at 0x7fac67d4da60>"
            ]
          },
          "metadata": {},
          "execution_count": 220
        },
        {
          "output_type": "display_data",
          "data": {
            "text/plain": [
              "<Figure size 432x288 with 1 Axes>"
            ],
            "image/png": "[encoded data removed]"
          },
          "metadata": {
            "needs_background": "light"
          }
        }
      ]
    }
  ]
}