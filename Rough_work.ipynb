{
  "nbformat": 4,
  "nbformat_minor": 0,
  "metadata": {
    "colab": {
      "provenance": [],
      "toc_visible": true,
      "authorship_tag": "ABX9TyMssDe4D+O3vnGYd3uUbDOa",
      "include_colab_link": true
    },
    "kernelspec": {
      "name": "python3",
      "display_name": "Python 3"
    },
    "language_info": {
      "name": "python"
    }
  },
  "cells": [
    {
      "cell_type": "markdown",
      "metadata": {
        "id": "view-in-github",
        "colab_type": "text"
      },
      "source": [
        "<a href=\"https://colab.research.google.com/github/adeekodaniel/DataScienceProj/blob/main/Rough_work.ipynb\" target=\"_parent\"><img src=\"https://colab.research.google.com/assets/colab-badge.svg\" alt=\"Open In Colab\"/></a>"
      ]
    },
    {
      "cell_type": "markdown",
      "source": [
        "# Data preparation and preprocessing"
      ],
      "metadata": {
        "id": "54-h4BO27kUd"
      }
    },
    {
      "cell_type": "markdown",
      "source": [
        "Import the necessary packages for the project"
      ],
      "metadata": {
        "id": "mxnE_TSC7wA7"
      }
    },
    {
      "cell_type": "code",
      "execution_count": 88,
      "metadata": {
        "id": "xSelLc1Vbe5e"
      },
      "outputs": [],
      "source": [
        "import pandas as pd\n",
        "import numpy as np\n",
        "import seaborn as sns\n",
        "import matplotlib.pyplot as plt\n"
      ]
    },
    {
      "cell_type": "code",
      "source": [
        "df = pd.read_csv('https://raw.githubusercontent.com/adeekodaniel/DataScienceProj/main/adverts.csv') #I uploaded the dataset to my github account and used the link from github"
      ],
      "metadata": {
        "id": "igCx9jUobl-_"
      },
      "execution_count": 89,
      "outputs": []
    },
    {
      "cell_type": "markdown",
      "source": [
        "Used .head method to see the dataset"
      ],
      "metadata": {
        "id": "o_uQMp8vdcgw"
      }
    },
    {
      "cell_type": "code",
      "source": [
        "df.head() #to display the first 5 values of the dataset"
      ],
      "metadata": {
        "colab": {
          "base_uri": "https://localhost:8080/",
          "height": 206
        },
        "id": "mCaJTwEwcUOy",
        "outputId": "a4b04862-4190-43d0-ff82-61ebdba295e7"
      },
      "execution_count": 90,
      "outputs": [
        {
          "output_type": "execute_result",
          "data": {
            "text/plain": [
              "   public_reference   mileage reg_code standard_colour standard_make  \\\n",
              "0   202006039777689       0.0      NaN            Grey         Volvo   \n",
              "1   202007020778260  108230.0       61            Blue        Jaguar   \n",
              "2   202007020778474    7800.0       17            Grey         SKODA   \n",
              "3   202007080986776   45000.0       16           Brown      Vauxhall   \n",
              "4   202007161321269   64000.0       64            Grey    Land Rover   \n",
              "\n",
              "      standard_model vehicle_condition  year_of_registration  price  \\\n",
              "0               XC90               NEW                   NaN  73970   \n",
              "1                 XF              USED                2011.0   7000   \n",
              "2               Yeti              USED                2017.0  14000   \n",
              "3              Mokka              USED                2016.0   7995   \n",
              "4  Range Rover Sport              USED                2015.0  26995   \n",
              "\n",
              "   body_type  crossover_car_and_van              fuel_type  \n",
              "0        SUV                  False  Petrol Plug-in Hybrid  \n",
              "1     Saloon                  False                 Diesel  \n",
              "2        SUV                  False                 Petrol  \n",
              "3  Hatchback                  False                 Diesel  \n",
              "4        SUV                  False                 Diesel  "
            ],
            "text/html": [
              "\n",
              "  <div id=\"df-c4e1691e-a6b5-44f4-ab8a-082258422137\">\n",
              "    <div class=\"colab-df-container\">\n",
              "      <div>\n",
              "<style scoped>\n",
              "    .dataframe tbody tr th:only-of-type {\n",
              "        vertical-align: middle;\n",
              "    }\n",
              "\n",
              "    .dataframe tbody tr th {\n",
              "        vertical-align: top;\n",
              "    }\n",
              "\n",
              "    .dataframe thead th {\n",
              "        text-align: right;\n",
              "    }\n",
              "</style>\n",
              "<table border=\"1\" class=\"dataframe\">\n",
              "  <thead>\n",
              "    <tr style=\"text-align: right;\">\n",
              "      <th></th>\n",
              "      <th>public_reference</th>\n",
              "      <th>mileage</th>\n",
              "      <th>reg_code</th>\n",
              "      <th>standard_colour</th>\n",
              "      <th>standard_make</th>\n",
              "      <th>standard_model</th>\n",
              "      <th>vehicle_condition</th>\n",
              "      <th>year_of_registration</th>\n",
              "      <th>price</th>\n",
              "      <th>body_type</th>\n",
              "      <th>crossover_car_and_van</th>\n",
              "      <th>fuel_type</th>\n",
              "    </tr>\n",
              "  </thead>\n",
              "  <tbody>\n",
              "    <tr>\n",
              "      <th>0</th>\n",
              "      <td>202006039777689</td>\n",
              "      <td>0.0</td>\n",
              "      <td>NaN</td>\n",
              "      <td>Grey</td>\n",
              "      <td>Volvo</td>\n",
              "      <td>XC90</td>\n",
              "      <td>NEW</td>\n",
              "      <td>NaN</td>\n",
              "      <td>73970</td>\n",
              "      <td>SUV</td>\n",
              "      <td>False</td>\n",
              "      <td>Petrol Plug-in Hybrid</td>\n",
              "    </tr>\n",
              "    <tr>\n",
              "      <th>1</th>\n",
              "      <td>202007020778260</td>\n",
              "      <td>108230.0</td>\n",
              "      <td>61</td>\n",
              "      <td>Blue</td>\n",
              "      <td>Jaguar</td>\n",
              "      <td>XF</td>\n",
              "      <td>USED</td>\n",
              "      <td>2011.0</td>\n",
              "      <td>7000</td>\n",
              "      <td>Saloon</td>\n",
              "      <td>False</td>\n",
              "      <td>Diesel</td>\n",
              "    </tr>\n",
              "    <tr>\n",
              "      <th>2</th>\n",
              "      <td>202007020778474</td>\n",
              "      <td>7800.0</td>\n",
              "      <td>17</td>\n",
              "      <td>Grey</td>\n",
              "      <td>SKODA</td>\n",
              "      <td>Yeti</td>\n",
              "      <td>USED</td>\n",
              "      <td>2017.0</td>\n",
              "      <td>14000</td>\n",
              "      <td>SUV</td>\n",
              "      <td>False</td>\n",
              "      <td>Petrol</td>\n",
              "    </tr>\n",
              "    <tr>\n",
              "      <th>3</th>\n",
              "      <td>202007080986776</td>\n",
              "      <td>45000.0</td>\n",
              "      <td>16</td>\n",
              "      <td>Brown</td>\n",
              "      <td>Vauxhall</td>\n",
              "      <td>Mokka</td>\n",
              "      <td>USED</td>\n",
              "      <td>2016.0</td>\n",
              "      <td>7995</td>\n",
              "      <td>Hatchback</td>\n",
              "      <td>False</td>\n",
              "      <td>Diesel</td>\n",
              "    </tr>\n",
              "    <tr>\n",
              "      <th>4</th>\n",
              "      <td>202007161321269</td>\n",
              "      <td>64000.0</td>\n",
              "      <td>64</td>\n",
              "      <td>Grey</td>\n",
              "      <td>Land Rover</td>\n",
              "      <td>Range Rover Sport</td>\n",
              "      <td>USED</td>\n",
              "      <td>2015.0</td>\n",
              "      <td>26995</td>\n",
              "      <td>SUV</td>\n",
              "      <td>False</td>\n",
              "      <td>Diesel</td>\n",
              "    </tr>\n",
              "  </tbody>\n",
              "</table>\n",
              "</div>\n",
              "      <button class=\"colab-df-convert\" onclick=\"convertToInteractive('df-c4e1691e-a6b5-44f4-ab8a-082258422137')\"\n",
              "              title=\"Convert this dataframe to an interactive table.\"\n",
              "              style=\"display:none;\">\n",
              "        \n",
              "  <svg xmlns=\"http://www.w3.org/2000/svg\" height=\"24px\"viewBox=\"0 0 24 24\"\n",
              "       width=\"24px\">\n",
              "    <path d=\"M0 0h24v24H0V0z\" fill=\"none\"/>\n",
              "    <path d=\"M18.56 5.44l.94 2.06.94-2.06 2.06-.94-2.06-.94-.94-2.06-.94 2.06-2.06.94zm-11 1L8.5 8.5l.94-2.06 2.06-.94-2.06-.94L8.5 2.5l-.94 2.06-2.06.94zm10 10l.94 2.06.94-2.06 2.06-.94-2.06-.94-.94-2.06-.94 2.06-2.06.94z\"/><path d=\"M17.41 7.96l-1.37-1.37c-.4-.4-.92-.59-1.43-.59-.52 0-1.04.2-1.43.59L10.3 9.45l-7.72 7.72c-.78.78-.78 2.05 0 2.83L4 21.41c.39.39.9.59 1.41.59.51 0 1.02-.2 1.41-.59l7.78-7.78 2.81-2.81c.8-.78.8-2.07 0-2.86zM5.41 20L4 18.59l7.72-7.72 1.47 1.35L5.41 20z\"/>\n",
              "  </svg>\n",
              "      </button>\n",
              "      \n",
              "  <style>\n",
              "    .colab-df-container {\n",
              "      display:flex;\n",
              "      flex-wrap:wrap;\n",
              "      gap: 12px;\n",
              "    }\n",
              "\n",
              "    .colab-df-convert {\n",
              "      background-color: #E8F0FE;\n",
              "      border: none;\n",
              "      border-radius: 50%;\n",
              "      cursor: pointer;\n",
              "      display: none;\n",
              "      fill: #1967D2;\n",
              "      height: 32px;\n",
              "      padding: 0 0 0 0;\n",
              "      width: 32px;\n",
              "    }\n",
              "\n",
              "    .colab-df-convert:hover {\n",
              "      background-color: #E2EBFA;\n",
              "      box-shadow: 0px 1px 2px rgba(60, 64, 67, 0.3), 0px 1px 3px 1px rgba(60, 64, 67, 0.15);\n",
              "      fill: #174EA6;\n",
              "    }\n",
              "\n",
              "    [theme=dark] .colab-df-convert {\n",
              "      background-color: #3B4455;\n",
              "      fill: #D2E3FC;\n",
              "    }\n",
              "\n",
              "    [theme=dark] .colab-df-convert:hover {\n",
              "      background-color: #434B5C;\n",
              "      box-shadow: 0px 1px 3px 1px rgba(0, 0, 0, 0.15);\n",
              "      filter: drop-shadow(0px 1px 2px rgba(0, 0, 0, 0.3));\n",
              "      fill: #FFFFFF;\n",
              "    }\n",
              "  </style>\n",
              "\n",
              "      <script>\n",
              "        const buttonEl =\n",
              "          document.querySelector('#df-c4e1691e-a6b5-44f4-ab8a-082258422137 button.colab-df-convert');\n",
              "        buttonEl.style.display =\n",
              "          google.colab.kernel.accessAllowed ? 'block' : 'none';\n",
              "\n",
              "        async function convertToInteractive(key) {\n",
              "          const element = document.querySelector('#df-c4e1691e-a6b5-44f4-ab8a-082258422137');\n",
              "          const dataTable =\n",
              "            await google.colab.kernel.invokeFunction('convertToInteractive',\n",
              "                                                     [key], {});\n",
              "          if (!dataTable) return;\n",
              "\n",
              "          const docLinkHtml = 'Like what you see? Visit the ' +\n",
              "            '<a target=\"_blank\" href=https://colab.research.google.com/notebooks/data_table.ipynb>data table notebook</a>'\n",
              "            + ' to learn more about interactive tables.';\n",
              "          element.innerHTML = '';\n",
              "          dataTable['output_type'] = 'display_data';\n",
              "          await google.colab.output.renderOutput(dataTable, element);\n",
              "          const docLink = document.createElement('div');\n",
              "          docLink.innerHTML = docLinkHtml;\n",
              "          element.appendChild(docLink);\n",
              "        }\n",
              "      </script>\n",
              "    </div>\n",
              "  </div>\n",
              "  "
            ]
          },
          "metadata": {},
          "execution_count": 90
        }
      ]
    },
    {
      "cell_type": "markdown",
      "source": [
        "Doing a descriptive statistics on the dataset to better understand the dataframe "
      ],
      "metadata": {
        "id": "-x7_wBSPduk8"
      }
    },
    {
      "cell_type": "code",
      "source": [
        "df.shape #the shape method shows there are 402,005 rows and 12 columns in the dataset"
      ],
      "metadata": {
        "colab": {
          "base_uri": "https://localhost:8080/"
        },
        "id": "3MHWrvEQd342",
        "outputId": "3176ef49-8aa5-4c19-8bb7-4f317cb9150b"
      },
      "execution_count": 91,
      "outputs": [
        {
          "output_type": "execute_result",
          "data": {
            "text/plain": [
              "(402005, 12)"
            ]
          },
          "metadata": {},
          "execution_count": 91
        }
      ]
    },
    {
      "cell_type": "code",
      "source": [
        "df.columns #columns method shows the names of each columns in the dataset. "
      ],
      "metadata": {
        "id": "xlCI_I4f3ypM",
        "colab": {
          "base_uri": "https://localhost:8080/"
        },
        "outputId": "34ce71a5-f429-4f7d-b10b-be950ef445c9"
      },
      "execution_count": 92,
      "outputs": [
        {
          "output_type": "execute_result",
          "data": {
            "text/plain": [
              "Index(['public_reference', 'mileage', 'reg_code', 'standard_colour',\n",
              "       'standard_make', 'standard_model', 'vehicle_condition',\n",
              "       'year_of_registration', 'price', 'body_type', 'crossover_car_and_van',\n",
              "       'fuel_type'],\n",
              "      dtype='object')"
            ]
          },
          "metadata": {},
          "execution_count": 92
        }
      ]
    },
    {
      "cell_type": "code",
      "source": [
        "df.info() #Passing the info method on the dataset in order to view a general summary and information about the dataset, which includes the datatypes, range index etc"
      ],
      "metadata": {
        "colab": {
          "base_uri": "https://localhost:8080/"
        },
        "id": "5nVRM-FweAh-",
        "outputId": "2311eac0-3438-4da3-9853-c1151cf3608d"
      },
      "execution_count": 93,
      "outputs": [
        {
          "output_type": "stream",
          "name": "stdout",
          "text": [
            "<class 'pandas.core.frame.DataFrame'>\n",
            "RangeIndex: 402005 entries, 0 to 402004\n",
            "Data columns (total 12 columns):\n",
            " #   Column                 Non-Null Count   Dtype  \n",
            "---  ------                 --------------   -----  \n",
            " 0   public_reference       402005 non-null  int64  \n",
            " 1   mileage                401878 non-null  float64\n",
            " 2   reg_code               370148 non-null  object \n",
            " 3   standard_colour        396627 non-null  object \n",
            " 4   standard_make          402005 non-null  object \n",
            " 5   standard_model         402005 non-null  object \n",
            " 6   vehicle_condition      402005 non-null  object \n",
            " 7   year_of_registration   368694 non-null  float64\n",
            " 8   price                  402005 non-null  int64  \n",
            " 9   body_type              401168 non-null  object \n",
            " 10  crossover_car_and_van  402005 non-null  bool   \n",
            " 11  fuel_type              401404 non-null  object \n",
            "dtypes: bool(1), float64(2), int64(2), object(7)\n",
            "memory usage: 34.1+ MB\n"
          ]
        }
      ]
    },
    {
      "cell_type": "markdown",
      "source": [
        "After observing the different data types of the different columns, we observe that year_of_registration data type as a float isn't correct, as year should be integer data type. Also it is essential to check if there are any duplicated rows in the dataset.\n",
        "\n"
      ],
      "metadata": {
        "id": "Y_OrCwXjjtg4"
      }
    },
    {
      "cell_type": "code",
      "source": [
        "df.duplicated().sum() # this shows that there are no duplicated rows in the dataset."
      ],
      "metadata": {
        "colab": {
          "base_uri": "https://localhost:8080/"
        },
        "id": "oAErglhPhq9C",
        "outputId": "97b094b8-82ef-4bc5-d16a-d5caf7b5145b"
      },
      "execution_count": 94,
      "outputs": [
        {
          "output_type": "execute_result",
          "data": {
            "text/plain": [
              "0"
            ]
          },
          "metadata": {},
          "execution_count": 94
        }
      ]
    },
    {
      "cell_type": "code",
      "source": [
        "df.describe() #to view the numerical summary statistics across the columns in the dataset"
      ],
      "metadata": {
        "colab": {
          "base_uri": "https://localhost:8080/",
          "height": 300
        },
        "id": "vg4LlPLdePYK",
        "outputId": "072679f7-e401-4c1c-fa62-628c7bc524a4"
      },
      "execution_count": 95,
      "outputs": [
        {
          "output_type": "execute_result",
          "data": {
            "text/plain": [
              "       public_reference        mileage  year_of_registration         price\n",
              "count      4.020050e+05  401878.000000         368694.000000  4.020050e+05\n",
              "mean       2.020071e+14   37743.595656           2015.006206  1.734197e+04\n",
              "std        1.691662e+10   34831.724018              7.962667  4.643746e+04\n",
              "min        2.013072e+14       0.000000            999.000000  1.200000e+02\n",
              "25%        2.020090e+14   10481.000000           2013.000000  7.495000e+03\n",
              "50%        2.020093e+14   28629.500000           2016.000000  1.260000e+04\n",
              "75%        2.020102e+14   56875.750000           2018.000000  2.000000e+04\n",
              "max        2.020110e+14  999999.000000           2020.000000  9.999999e+06"
            ],
            "text/html": [
              "\n",
              "  <div id=\"df-5bb22740-7b38-4572-bf98-cd97e8e552d0\">\n",
              "    <div class=\"colab-df-container\">\n",
              "      <div>\n",
              "<style scoped>\n",
              "    .dataframe tbody tr th:only-of-type {\n",
              "        vertical-align: middle;\n",
              "    }\n",
              "\n",
              "    .dataframe tbody tr th {\n",
              "        vertical-align: top;\n",
              "    }\n",
              "\n",
              "    .dataframe thead th {\n",
              "        text-align: right;\n",
              "    }\n",
              "</style>\n",
              "<table border=\"1\" class=\"dataframe\">\n",
              "  <thead>\n",
              "    <tr style=\"text-align: right;\">\n",
              "      <th></th>\n",
              "      <th>public_reference</th>\n",
              "      <th>mileage</th>\n",
              "      <th>year_of_registration</th>\n",
              "      <th>price</th>\n",
              "    </tr>\n",
              "  </thead>\n",
              "  <tbody>\n",
              "    <tr>\n",
              "      <th>count</th>\n",
              "      <td>4.020050e+05</td>\n",
              "      <td>401878.000000</td>\n",
              "      <td>368694.000000</td>\n",
              "      <td>4.020050e+05</td>\n",
              "    </tr>\n",
              "    <tr>\n",
              "      <th>mean</th>\n",
              "      <td>2.020071e+14</td>\n",
              "      <td>37743.595656</td>\n",
              "      <td>2015.006206</td>\n",
              "      <td>1.734197e+04</td>\n",
              "    </tr>\n",
              "    <tr>\n",
              "      <th>std</th>\n",
              "      <td>1.691662e+10</td>\n",
              "      <td>34831.724018</td>\n",
              "      <td>7.962667</td>\n",
              "      <td>4.643746e+04</td>\n",
              "    </tr>\n",
              "    <tr>\n",
              "      <th>min</th>\n",
              "      <td>2.013072e+14</td>\n",
              "      <td>0.000000</td>\n",
              "      <td>999.000000</td>\n",
              "      <td>1.200000e+02</td>\n",
              "    </tr>\n",
              "    <tr>\n",
              "      <th>25%</th>\n",
              "      <td>2.020090e+14</td>\n",
              "      <td>10481.000000</td>\n",
              "      <td>2013.000000</td>\n",
              "      <td>7.495000e+03</td>\n",
              "    </tr>\n",
              "    <tr>\n",
              "      <th>50%</th>\n",
              "      <td>2.020093e+14</td>\n",
              "      <td>28629.500000</td>\n",
              "      <td>2016.000000</td>\n",
              "      <td>1.260000e+04</td>\n",
              "    </tr>\n",
              "    <tr>\n",
              "      <th>75%</th>\n",
              "      <td>2.020102e+14</td>\n",
              "      <td>56875.750000</td>\n",
              "      <td>2018.000000</td>\n",
              "      <td>2.000000e+04</td>\n",
              "    </tr>\n",
              "    <tr>\n",
              "      <th>max</th>\n",
              "      <td>2.020110e+14</td>\n",
              "      <td>999999.000000</td>\n",
              "      <td>2020.000000</td>\n",
              "      <td>9.999999e+06</td>\n",
              "    </tr>\n",
              "  </tbody>\n",
              "</table>\n",
              "</div>\n",
              "      <button class=\"colab-df-convert\" onclick=\"convertToInteractive('df-5bb22740-7b38-4572-bf98-cd97e8e552d0')\"\n",
              "              title=\"Convert this dataframe to an interactive table.\"\n",
              "              style=\"display:none;\">\n",
              "        \n",
              "  <svg xmlns=\"http://www.w3.org/2000/svg\" height=\"24px\"viewBox=\"0 0 24 24\"\n",
              "       width=\"24px\">\n",
              "    <path d=\"M0 0h24v24H0V0z\" fill=\"none\"/>\n",
              "    <path d=\"M18.56 5.44l.94 2.06.94-2.06 2.06-.94-2.06-.94-.94-2.06-.94 2.06-2.06.94zm-11 1L8.5 8.5l.94-2.06 2.06-.94-2.06-.94L8.5 2.5l-.94 2.06-2.06.94zm10 10l.94 2.06.94-2.06 2.06-.94-2.06-.94-.94-2.06-.94 2.06-2.06.94z\"/><path d=\"M17.41 7.96l-1.37-1.37c-.4-.4-.92-.59-1.43-.59-.52 0-1.04.2-1.43.59L10.3 9.45l-7.72 7.72c-.78.78-.78 2.05 0 2.83L4 21.41c.39.39.9.59 1.41.59.51 0 1.02-.2 1.41-.59l7.78-7.78 2.81-2.81c.8-.78.8-2.07 0-2.86zM5.41 20L4 18.59l7.72-7.72 1.47 1.35L5.41 20z\"/>\n",
              "  </svg>\n",
              "      </button>\n",
              "      \n",
              "  <style>\n",
              "    .colab-df-container {\n",
              "      display:flex;\n",
              "      flex-wrap:wrap;\n",
              "      gap: 12px;\n",
              "    }\n",
              "\n",
              "    .colab-df-convert {\n",
              "      background-color: #E8F0FE;\n",
              "      border: none;\n",
              "      border-radius: 50%;\n",
              "      cursor: pointer;\n",
              "      display: none;\n",
              "      fill: #1967D2;\n",
              "      height: 32px;\n",
              "      padding: 0 0 0 0;\n",
              "      width: 32px;\n",
              "    }\n",
              "\n",
              "    .colab-df-convert:hover {\n",
              "      background-color: #E2EBFA;\n",
              "      box-shadow: 0px 1px 2px rgba(60, 64, 67, 0.3), 0px 1px 3px 1px rgba(60, 64, 67, 0.15);\n",
              "      fill: #174EA6;\n",
              "    }\n",
              "\n",
              "    [theme=dark] .colab-df-convert {\n",
              "      background-color: #3B4455;\n",
              "      fill: #D2E3FC;\n",
              "    }\n",
              "\n",
              "    [theme=dark] .colab-df-convert:hover {\n",
              "      background-color: #434B5C;\n",
              "      box-shadow: 0px 1px 3px 1px rgba(0, 0, 0, 0.15);\n",
              "      filter: drop-shadow(0px 1px 2px rgba(0, 0, 0, 0.3));\n",
              "      fill: #FFFFFF;\n",
              "    }\n",
              "  </style>\n",
              "\n",
              "      <script>\n",
              "        const buttonEl =\n",
              "          document.querySelector('#df-5bb22740-7b38-4572-bf98-cd97e8e552d0 button.colab-df-convert');\n",
              "        buttonEl.style.display =\n",
              "          google.colab.kernel.accessAllowed ? 'block' : 'none';\n",
              "\n",
              "        async function convertToInteractive(key) {\n",
              "          const element = document.querySelector('#df-5bb22740-7b38-4572-bf98-cd97e8e552d0');\n",
              "          const dataTable =\n",
              "            await google.colab.kernel.invokeFunction('convertToInteractive',\n",
              "                                                     [key], {});\n",
              "          if (!dataTable) return;\n",
              "\n",
              "          const docLinkHtml = 'Like what you see? Visit the ' +\n",
              "            '<a target=\"_blank\" href=https://colab.research.google.com/notebooks/data_table.ipynb>data table notebook</a>'\n",
              "            + ' to learn more about interactive tables.';\n",
              "          element.innerHTML = '';\n",
              "          dataTable['output_type'] = 'display_data';\n",
              "          await google.colab.output.renderOutput(dataTable, element);\n",
              "          const docLink = document.createElement('div');\n",
              "          docLink.innerHTML = docLinkHtml;\n",
              "          element.appendChild(docLink);\n",
              "        }\n",
              "      </script>\n",
              "    </div>\n",
              "  </div>\n",
              "  "
            ]
          },
          "metadata": {},
          "execution_count": 95
        }
      ]
    },
    {
      "cell_type": "code",
      "source": [
        "df.isna().sum() #we need to view the number of missing values in each cell"
      ],
      "metadata": {
        "colab": {
          "base_uri": "https://localhost:8080/"
        },
        "id": "S5NeUSpG2FXc",
        "outputId": "dcceeb46-0b59-455c-dc14-3f5589dea942"
      },
      "execution_count": 96,
      "outputs": [
        {
          "output_type": "execute_result",
          "data": {
            "text/plain": [
              "public_reference             0\n",
              "mileage                    127\n",
              "reg_code                 31857\n",
              "standard_colour           5378\n",
              "standard_make                0\n",
              "standard_model               0\n",
              "vehicle_condition            0\n",
              "year_of_registration     33311\n",
              "price                        0\n",
              "body_type                  837\n",
              "crossover_car_and_van        0\n",
              "fuel_type                  601\n",
              "dtype: int64"
            ]
          },
          "metadata": {},
          "execution_count": 96
        }
      ]
    },
    {
      "cell_type": "code",
      "source": [
        "df.hist(figsize=(10,10)) # just a rough check on the distribution of the numerical features"
      ],
      "metadata": {
        "colab": {
          "base_uri": "https://localhost:8080/",
          "height": 708
        },
        "id": "LZmE8Ib4bEog",
        "outputId": "2a932422-0d56-4029-b990-b91e91e955d7"
      },
      "execution_count": 97,
      "outputs": [
        {
          "output_type": "execute_result",
          "data": {
            "text/plain": [
              "array([[<matplotlib.axes._subplots.AxesSubplot object at 0x7f92d615d7c0>,\n",
              "        <matplotlib.axes._subplots.AxesSubplot object at 0x7f92d609afa0>],\n",
              "       [<matplotlib.axes._subplots.AxesSubplot object at 0x7f92d6049880>,\n",
              "        <matplotlib.axes._subplots.AxesSubplot object at 0x7f92d6072fa0>]],\n",
              "      dtype=object)"
            ]
          },
          "metadata": {},
          "execution_count": 97
        },
        {
          "output_type": "display_data",
          "data": {
            "text/plain": [
              "<Figure size 720x720 with 4 Axes>"
            ],
            "image/png": "[encoded data removed]"
          },
          "metadata": {
            "needs_background": "light"
          }
        }
      ]
    },
    {
      "cell_type": "markdown",
      "source": [
        "# New section"
      ],
      "metadata": {
        "id": "SONN4WA36X6X"
      }
    },
    {
      "cell_type": "code",
      "source": [
        "sns.countplot(df['standard_colour'])"
      ],
      "metadata": {
        "colab": {
          "base_uri": "https://localhost:8080/",
          "height": 352
        },
        "id": "lvl8GXu0cULa",
        "outputId": "9c707c34-b879-4911-9dfd-45cb500af013"
      },
      "execution_count": 98,
      "outputs": [
        {
          "output_type": "stream",
          "name": "stderr",
          "text": [
            "/usr/local/lib/python3.8/dist-packages/seaborn/_decorators.py:36: FutureWarning: Pass the following variable as a keyword arg: x. From version 0.12, the only valid positional argument will be `data`, and passing other arguments without an explicit keyword will result in an error or misinterpretation.\n",
            "  warnings.warn(\n"
          ]
        },
        {
          "output_type": "execute_result",
          "data": {
            "text/plain": [
              "<matplotlib.axes._subplots.AxesSubplot at 0x7f92d602fee0>"
            ]
          },
          "metadata": {},
          "execution_count": 98
        },
        {
          "output_type": "display_data",
          "data": {
            "text/plain": [
              "<Figure size 432x288 with 1 Axes>"
            ],
            "image/png": "[encoded data removed]"
          },
          "metadata": {
            "needs_background": "light"
          }
        }
      ]
    },
    {
      "cell_type": "code",
      "source": [
        "sns.countplot(df['standard_make'])"
      ],
      "metadata": {
        "colab": {
          "base_uri": "https://localhost:8080/",
          "height": 352
        },
        "id": "YKCSXK7TcpDM",
        "outputId": "5b21f079-916e-4880-c0fc-17ac9a661712"
      },
      "execution_count": 99,
      "outputs": [
        {
          "output_type": "stream",
          "name": "stderr",
          "text": [
            "/usr/local/lib/python3.8/dist-packages/seaborn/_decorators.py:36: FutureWarning: Pass the following variable as a keyword arg: x. From version 0.12, the only valid positional argument will be `data`, and passing other arguments without an explicit keyword will result in an error or misinterpretation.\n",
            "  warnings.warn(\n"
          ]
        },
        {
          "output_type": "execute_result",
          "data": {
            "text/plain": [
              "<matplotlib.axes._subplots.AxesSubplot at 0x7f92d5e05a30>"
            ]
          },
          "metadata": {},
          "execution_count": 99
        },
        {
          "output_type": "display_data",
          "data": {
            "text/plain": [
              "<Figure size 432x288 with 1 Axes>"
            ],
            "image/png": "[encoded data removed]"
          },
          "metadata": {
            "needs_background": "light"
          }
        }
      ]
    },
    {
      "cell_type": "code",
      "source": [
        "sns.countplot(df['standard_model'])"
      ],
      "metadata": {
        "colab": {
          "base_uri": "https://localhost:8080/",
          "height": 353
        },
        "id": "JLnLo6gDcyGp",
        "outputId": "9f786360-6cba-4789-935b-5daf674ac4ac"
      },
      "execution_count": 100,
      "outputs": [
        {
          "output_type": "stream",
          "name": "stderr",
          "text": [
            "/usr/local/lib/python3.8/dist-packages/seaborn/_decorators.py:36: FutureWarning: Pass the following variable as a keyword arg: x. From version 0.12, the only valid positional argument will be `data`, and passing other arguments without an explicit keyword will result in an error or misinterpretation.\n",
            "  warnings.warn(\n"
          ]
        },
        {
          "output_type": "execute_result",
          "data": {
            "text/plain": [
              "<matplotlib.axes._subplots.AxesSubplot at 0x7f92d415d5e0>"
            ]
          },
          "metadata": {},
          "execution_count": 100
        },
        {
          "output_type": "display_data",
          "data": {
            "text/plain": [
              "<Figure size 432x288 with 1 Axes>"
            ],
            "image/png": "[encoded data removed]"
          },
          "metadata": {
            "needs_background": "light"
          }
        }
      ]
    },
    {
      "cell_type": "code",
      "source": [
        "sns.countplot(df['vehicle_condition'])"
      ],
      "metadata": {
        "colab": {
          "base_uri": "https://localhost:8080/",
          "height": 352
        },
        "id": "D7Y36vefdCsv",
        "outputId": "32643fab-8d6e-47c6-f30d-e1a68c7253d7"
      },
      "execution_count": 101,
      "outputs": [
        {
          "output_type": "stream",
          "name": "stderr",
          "text": [
            "/usr/local/lib/python3.8/dist-packages/seaborn/_decorators.py:36: FutureWarning: Pass the following variable as a keyword arg: x. From version 0.12, the only valid positional argument will be `data`, and passing other arguments without an explicit keyword will result in an error or misinterpretation.\n",
            "  warnings.warn(\n"
          ]
        },
        {
          "output_type": "execute_result",
          "data": {
            "text/plain": [
              "<matplotlib.axes._subplots.AxesSubplot at 0x7f92d38e9310>"
            ]
          },
          "metadata": {},
          "execution_count": 101
        },
        {
          "output_type": "display_data",
          "data": {
            "text/plain": [
              "<Figure size 432x288 with 1 Axes>"
            ],
            "image/png": "[encoded data removed]"
          },
          "metadata": {
            "needs_background": "light"
          }
        }
      ]
    },
    {
      "cell_type": "code",
      "source": [
        "sns.countplot(df['body_type'])"
      ],
      "metadata": {
        "colab": {
          "base_uri": "https://localhost:8080/",
          "height": 352
        },
        "id": "U93XR1B1dLHw",
        "outputId": "55842775-c757-40ca-ba07-357e812ad82c"
      },
      "execution_count": 102,
      "outputs": [
        {
          "output_type": "stream",
          "name": "stderr",
          "text": [
            "/usr/local/lib/python3.8/dist-packages/seaborn/_decorators.py:36: FutureWarning: Pass the following variable as a keyword arg: x. From version 0.12, the only valid positional argument will be `data`, and passing other arguments without an explicit keyword will result in an error or misinterpretation.\n",
            "  warnings.warn(\n"
          ]
        },
        {
          "output_type": "execute_result",
          "data": {
            "text/plain": [
              "<matplotlib.axes._subplots.AxesSubplot at 0x7f934d9caa30>"
            ]
          },
          "metadata": {},
          "execution_count": 102
        },
        {
          "output_type": "display_data",
          "data": {
            "text/plain": [
              "<Figure size 432x288 with 1 Axes>"
            ],
            "image/png": "[encoded data removed]"
          },
          "metadata": {
            "needs_background": "light"
          }
        }
      ]
    },
    {
      "cell_type": "code",
      "source": [
        "sns.countplot(df['crossover_car_and_van'])"
      ],
      "metadata": {
        "colab": {
          "base_uri": "https://localhost:8080/",
          "height": 352
        },
        "id": "iOdKyGKGdY2j",
        "outputId": "887dfcaf-2163-4690-84ad-52e76d753ad5"
      },
      "execution_count": 103,
      "outputs": [
        {
          "output_type": "stream",
          "name": "stderr",
          "text": [
            "/usr/local/lib/python3.8/dist-packages/seaborn/_decorators.py:36: FutureWarning: Pass the following variable as a keyword arg: x. From version 0.12, the only valid positional argument will be `data`, and passing other arguments without an explicit keyword will result in an error or misinterpretation.\n",
            "  warnings.warn(\n"
          ]
        },
        {
          "output_type": "execute_result",
          "data": {
            "text/plain": [
              "<matplotlib.axes._subplots.AxesSubplot at 0x7f92e83c2f40>"
            ]
          },
          "metadata": {},
          "execution_count": 103
        },
        {
          "output_type": "display_data",
          "data": {
            "text/plain": [
              "<Figure size 432x288 with 1 Axes>"
            ],
            "image/png": "[encoded data removed]"
          },
          "metadata": {
            "needs_background": "light"
          }
        }
      ]
    },
    {
      "cell_type": "code",
      "source": [
        "sns.countplot(df['fuel_type'])"
      ],
      "metadata": {
        "colab": {
          "base_uri": "https://localhost:8080/",
          "height": 352
        },
        "id": "d84PMBIidrmQ",
        "outputId": "1956357a-5275-42e4-9d4d-82d3515c3a4d"
      },
      "execution_count": 104,
      "outputs": [
        {
          "output_type": "stream",
          "name": "stderr",
          "text": [
            "/usr/local/lib/python3.8/dist-packages/seaborn/_decorators.py:36: FutureWarning: Pass the following variable as a keyword arg: x. From version 0.12, the only valid positional argument will be `data`, and passing other arguments without an explicit keyword will result in an error or misinterpretation.\n",
            "  warnings.warn(\n"
          ]
        },
        {
          "output_type": "execute_result",
          "data": {
            "text/plain": [
              "<matplotlib.axes._subplots.AxesSubplot at 0x7f9342f856d0>"
            ]
          },
          "metadata": {},
          "execution_count": 104
        },
        {
          "output_type": "display_data",
          "data": {
            "text/plain": [
              "<Figure size 432x288 with 1 Axes>"
            ],
            "image/png": "[encoded data removed]"
          },
          "metadata": {
            "needs_background": "light"
          }
        }
      ]
    },
    {
      "cell_type": "markdown",
      "source": [
        "There are some missing values in the year of registration column, filling up the missing values so as to be able to change the data type from Float to int"
      ],
      "metadata": {
        "id": "jbMf7uNI0xrN"
      }
    },
    {
      "cell_type": "code",
      "source": [
        "df['year_of_registration'] = df['year_of_registration'].fillna(2021) #Filling the NaN values in the year of registration column as 2021, to be representive of the year 2021\n",
        "df['year_of_registration'] = df['year_of_registration'].astype(int)\n",
        "df['year_of_registration'].dtypes   #to see if the change in data type for year of registration is succesful"
      ],
      "metadata": {
        "id": "-UsTOl5EnJPs",
        "colab": {
          "base_uri": "https://localhost:8080/"
        },
        "outputId": "6168571e-a809-47d9-8bcc-d72c26e5c558"
      },
      "execution_count": 105,
      "outputs": [
        {
          "output_type": "execute_result",
          "data": {
            "text/plain": [
              "dtype('int64')"
            ]
          },
          "metadata": {},
          "execution_count": 105
        }
      ]
    },
    {
      "cell_type": "code",
      "source": [
        "df['year_of_registration'].unique() #to view the unique values in the year_of_registration column\n",
        "#we can see from the result here that some values which are not in the 'yyyy' format and there are some errors in some year. We can either drop them or segregate the data into two parts."
      ],
      "metadata": {
        "colab": {
          "base_uri": "https://localhost:8080/"
        },
        "id": "tqKhL9tmir2B",
        "outputId": "9c9e667a-29d2-49a8-cf6c-f42ad9ef6597"
      },
      "execution_count": 106,
      "outputs": [
        {
          "output_type": "execute_result",
          "data": {
            "text/plain": [
              "array([2021, 2011, 2017, 2016, 2015, 2013, 2008, 2019, 2010, 2012, 2018,\n",
              "       2009, 1984, 2014, 2003, 2006, 2020, 2005, 2000, 2002, 2007, 2004,\n",
              "       1991, 2001, 1986, 1998, 1990, 1993, 1987, 1994, 1999, 1970, 1988,\n",
              "       1995, 1997, 1969, 1992, 1989, 1996, 1976, 1983, 1980, 1973, 1962,\n",
              "       1967, 1972, 1982, 1968, 1979, 1964, 1933, 1981, 1985, 1978, 1971,\n",
              "       1974, 1966, 1977, 1961, 1965, 1007, 1957, 1515, 1963, 1063, 1954,\n",
              "       1975, 1955, 1009, 1016, 1960, 1956, 1959, 1909, 1934, 1958, 1010,\n",
              "       1950, 1008, 1018,  999, 1017, 1952, 1006, 1015])"
            ]
          },
          "metadata": {},
          "execution_count": 106
        }
      ]
    },
    {
      "cell_type": "code",
      "source": [
        "sns.kdeplot(data=df, x=\"year_of_registration\") #using the kdeplot, our distribution is skewed to the right"
      ],
      "metadata": {
        "colab": {
          "base_uri": "https://localhost:8080/",
          "height": 297
        },
        "id": "i9oqlxRWkiVd",
        "outputId": "713f370b-0dca-4159-c0e3-1c06aabd5535"
      },
      "execution_count": 107,
      "outputs": [
        {
          "output_type": "execute_result",
          "data": {
            "text/plain": [
              "<matplotlib.axes._subplots.AxesSubplot at 0x7f934af3efd0>"
            ]
          },
          "metadata": {},
          "execution_count": 107
        },
        {
          "output_type": "display_data",
          "data": {
            "text/plain": [
              "<Figure size 432x288 with 1 Axes>"
            ],
            "image/png": "[encoded data removed]"
          },
          "metadata": {
            "needs_background": "light"
          }
        }
      ]
    },
    {
      "cell_type": "markdown",
      "source": [
        "From the KDE distribution above, most of our data falls in the >1999s years range, and the summary statisctics shows that our averagew year is 2015. We can then focus on years that are greater than 1999 for our work. Hence we divide the dataset into two (2) groups. \n",
        "\n",
        "\n",
        "1.   Year greater than 1999\n",
        "2.   Year less than 2000\n",
        "\n"
      ],
      "metadata": {
        "id": "Qwxq9X6JBTOB"
      }
    },
    {
      "cell_type": "code",
      "source": [
        "less_2000 = df[df['year_of_registration'] < 2000] #for years less than 2000's\n",
        "less_2000.sample()"
      ],
      "metadata": {
        "id": "Y0PQJTVfGmoM",
        "colab": {
          "base_uri": "https://localhost:8080/",
          "height": 81
        },
        "outputId": "2c9365c7-96fa-41f2-b5fc-a46666cbd7a3"
      },
      "execution_count": 108,
      "outputs": [
        {
          "output_type": "execute_result",
          "data": {
            "text/plain": [
              "        public_reference  mileage reg_code standard_colour standard_make  \\\n",
              "171839   202010315643964  90000.0        T          Silver        Toyota   \n",
              "\n",
              "       standard_model vehicle_condition  year_of_registration  price  \\\n",
              "171839        Corolla              USED                  1999    300   \n",
              "\n",
              "        body_type  crossover_car_and_van fuel_type  \n",
              "171839  Hatchback                  False    Petrol  "
            ],
            "text/html": [
              "\n",
              "  <div id=\"df-5da075ca-f69b-448d-ad05-f495357d0f9f\">\n",
              "    <div class=\"colab-df-container\">\n",
              "      <div>\n",
              "<style scoped>\n",
              "    .dataframe tbody tr th:only-of-type {\n",
              "        vertical-align: middle;\n",
              "    }\n",
              "\n",
              "    .dataframe tbody tr th {\n",
              "        vertical-align: top;\n",
              "    }\n",
              "\n",
              "    .dataframe thead th {\n",
              "        text-align: right;\n",
              "    }\n",
              "</style>\n",
              "<table border=\"1\" class=\"dataframe\">\n",
              "  <thead>\n",
              "    <tr style=\"text-align: right;\">\n",
              "      <th></th>\n",
              "      <th>public_reference</th>\n",
              "      <th>mileage</th>\n",
              "      <th>reg_code</th>\n",
              "      <th>standard_colour</th>\n",
              "      <th>standard_make</th>\n",
              "      <th>standard_model</th>\n",
              "      <th>vehicle_condition</th>\n",
              "      <th>year_of_registration</th>\n",
              "      <th>price</th>\n",
              "      <th>body_type</th>\n",
              "      <th>crossover_car_and_van</th>\n",
              "      <th>fuel_type</th>\n",
              "    </tr>\n",
              "  </thead>\n",
              "  <tbody>\n",
              "    <tr>\n",
              "      <th>171839</th>\n",
              "      <td>202010315643964</td>\n",
              "      <td>90000.0</td>\n",
              "      <td>T</td>\n",
              "      <td>Silver</td>\n",
              "      <td>Toyota</td>\n",
              "      <td>Corolla</td>\n",
              "      <td>USED</td>\n",
              "      <td>1999</td>\n",
              "      <td>300</td>\n",
              "      <td>Hatchback</td>\n",
              "      <td>False</td>\n",
              "      <td>Petrol</td>\n",
              "    </tr>\n",
              "  </tbody>\n",
              "</table>\n",
              "</div>\n",
              "      <button class=\"colab-df-convert\" onclick=\"convertToInteractive('df-5da075ca-f69b-448d-ad05-f495357d0f9f')\"\n",
              "              title=\"Convert this dataframe to an interactive table.\"\n",
              "              style=\"display:none;\">\n",
              "        \n",
              "  <svg xmlns=\"http://www.w3.org/2000/svg\" height=\"24px\"viewBox=\"0 0 24 24\"\n",
              "       width=\"24px\">\n",
              "    <path d=\"M0 0h24v24H0V0z\" fill=\"none\"/>\n",
              "    <path d=\"M18.56 5.44l.94 2.06.94-2.06 2.06-.94-2.06-.94-.94-2.06-.94 2.06-2.06.94zm-11 1L8.5 8.5l.94-2.06 2.06-.94-2.06-.94L8.5 2.5l-.94 2.06-2.06.94zm10 10l.94 2.06.94-2.06 2.06-.94-2.06-.94-.94-2.06-.94 2.06-2.06.94z\"/><path d=\"M17.41 7.96l-1.37-1.37c-.4-.4-.92-.59-1.43-.59-.52 0-1.04.2-1.43.59L10.3 9.45l-7.72 7.72c-.78.78-.78 2.05 0 2.83L4 21.41c.39.39.9.59 1.41.59.51 0 1.02-.2 1.41-.59l7.78-7.78 2.81-2.81c.8-.78.8-2.07 0-2.86zM5.41 20L4 18.59l7.72-7.72 1.47 1.35L5.41 20z\"/>\n",
              "  </svg>\n",
              "      </button>\n",
              "      \n",
              "  <style>\n",
              "    .colab-df-container {\n",
              "      display:flex;\n",
              "      flex-wrap:wrap;\n",
              "      gap: 12px;\n",
              "    }\n",
              "\n",
              "    .colab-df-convert {\n",
              "      background-color: #E8F0FE;\n",
              "      border: none;\n",
              "      border-radius: 50%;\n",
              "      cursor: pointer;\n",
              "      display: none;\n",
              "      fill: #1967D2;\n",
              "      height: 32px;\n",
              "      padding: 0 0 0 0;\n",
              "      width: 32px;\n",
              "    }\n",
              "\n",
              "    .colab-df-convert:hover {\n",
              "      background-color: #E2EBFA;\n",
              "      box-shadow: 0px 1px 2px rgba(60, 64, 67, 0.3), 0px 1px 3px 1px rgba(60, 64, 67, 0.15);\n",
              "      fill: #174EA6;\n",
              "    }\n",
              "\n",
              "    [theme=dark] .colab-df-convert {\n",
              "      background-color: #3B4455;\n",
              "      fill: #D2E3FC;\n",
              "    }\n",
              "\n",
              "    [theme=dark] .colab-df-convert:hover {\n",
              "      background-color: #434B5C;\n",
              "      box-shadow: 0px 1px 3px 1px rgba(0, 0, 0, 0.15);\n",
              "      filter: drop-shadow(0px 1px 2px rgba(0, 0, 0, 0.3));\n",
              "      fill: #FFFFFF;\n",
              "    }\n",
              "  </style>\n",
              "\n",
              "      <script>\n",
              "        const buttonEl =\n",
              "          document.querySelector('#df-5da075ca-f69b-448d-ad05-f495357d0f9f button.colab-df-convert');\n",
              "        buttonEl.style.display =\n",
              "          google.colab.kernel.accessAllowed ? 'block' : 'none';\n",
              "\n",
              "        async function convertToInteractive(key) {\n",
              "          const element = document.querySelector('#df-5da075ca-f69b-448d-ad05-f495357d0f9f');\n",
              "          const dataTable =\n",
              "            await google.colab.kernel.invokeFunction('convertToInteractive',\n",
              "                                                     [key], {});\n",
              "          if (!dataTable) return;\n",
              "\n",
              "          const docLinkHtml = 'Like what you see? Visit the ' +\n",
              "            '<a target=\"_blank\" href=https://colab.research.google.com/notebooks/data_table.ipynb>data table notebook</a>'\n",
              "            + ' to learn more about interactive tables.';\n",
              "          element.innerHTML = '';\n",
              "          dataTable['output_type'] = 'display_data';\n",
              "          await google.colab.output.renderOutput(dataTable, element);\n",
              "          const docLink = document.createElement('div');\n",
              "          docLink.innerHTML = docLinkHtml;\n",
              "          element.appendChild(docLink);\n",
              "        }\n",
              "      </script>\n",
              "    </div>\n",
              "  </div>\n",
              "  "
            ]
          },
          "metadata": {},
          "execution_count": 108
        }
      ]
    },
    {
      "cell_type": "code",
      "source": [
        "greater_1999 = df[df['year_of_registration'] > 1999] #for years greater than 1999\n",
        "greater_1999.sample(2)"
      ],
      "metadata": {
        "colab": {
          "base_uri": "https://localhost:8080/",
          "height": 112
        },
        "id": "m8Bq-oePISUs",
        "outputId": "91cfa2b6-7c39-4b50-e85e-62a6c2db8eee"
      },
      "execution_count": 109,
      "outputs": [
        {
          "output_type": "execute_result",
          "data": {
            "text/plain": [
              "        public_reference  mileage reg_code standard_colour standard_make  \\\n",
              "45946    202006150159713  28000.0       66           White       Hyundai   \n",
              "249856   202009033272104  13147.0       16            Blue    Volkswagen   \n",
              "\n",
              "       standard_model vehicle_condition  year_of_registration  price  \\\n",
              "45946             i10              USED                  2016   5695   \n",
              "249856           Golf              USED                  2016  11490   \n",
              "\n",
              "        body_type  crossover_car_and_van fuel_type  \n",
              "45946   Hatchback                  False    Petrol  \n",
              "249856  Hatchback                  False    Diesel  "
            ],
            "text/html": [
              "\n",
              "  <div id=\"df-7c399740-7a41-4df8-be75-71c0c9755603\">\n",
              "    <div class=\"colab-df-container\">\n",
              "      <div>\n",
              "<style scoped>\n",
              "    .dataframe tbody tr th:only-of-type {\n",
              "        vertical-align: middle;\n",
              "    }\n",
              "\n",
              "    .dataframe tbody tr th {\n",
              "        vertical-align: top;\n",
              "    }\n",
              "\n",
              "    .dataframe thead th {\n",
              "        text-align: right;\n",
              "    }\n",
              "</style>\n",
              "<table border=\"1\" class=\"dataframe\">\n",
              "  <thead>\n",
              "    <tr style=\"text-align: right;\">\n",
              "      <th></th>\n",
              "      <th>public_reference</th>\n",
              "      <th>mileage</th>\n",
              "      <th>reg_code</th>\n",
              "      <th>standard_colour</th>\n",
              "      <th>standard_make</th>\n",
              "      <th>standard_model</th>\n",
              "      <th>vehicle_condition</th>\n",
              "      <th>year_of_registration</th>\n",
              "      <th>price</th>\n",
              "      <th>body_type</th>\n",
              "      <th>crossover_car_and_van</th>\n",
              "      <th>fuel_type</th>\n",
              "    </tr>\n",
              "  </thead>\n",
              "  <tbody>\n",
              "    <tr>\n",
              "      <th>45946</th>\n",
              "      <td>202006150159713</td>\n",
              "      <td>28000.0</td>\n",
              "      <td>66</td>\n",
              "      <td>White</td>\n",
              "      <td>Hyundai</td>\n",
              "      <td>i10</td>\n",
              "      <td>USED</td>\n",
              "      <td>2016</td>\n",
              "      <td>5695</td>\n",
              "      <td>Hatchback</td>\n",
              "      <td>False</td>\n",
              "      <td>Petrol</td>\n",
              "    </tr>\n",
              "    <tr>\n",
              "      <th>249856</th>\n",
              "      <td>202009033272104</td>\n",
              "      <td>13147.0</td>\n",
              "      <td>16</td>\n",
              "      <td>Blue</td>\n",
              "      <td>Volkswagen</td>\n",
              "      <td>Golf</td>\n",
              "      <td>USED</td>\n",
              "      <td>2016</td>\n",
              "      <td>11490</td>\n",
              "      <td>Hatchback</td>\n",
              "      <td>False</td>\n",
              "      <td>Diesel</td>\n",
              "    </tr>\n",
              "  </tbody>\n",
              "</table>\n",
              "</div>\n",
              "      <button class=\"colab-df-convert\" onclick=\"convertToInteractive('df-7c399740-7a41-4df8-be75-71c0c9755603')\"\n",
              "              title=\"Convert this dataframe to an interactive table.\"\n",
              "              style=\"display:none;\">\n",
              "        \n",
              "  <svg xmlns=\"http://www.w3.org/2000/svg\" height=\"24px\"viewBox=\"0 0 24 24\"\n",
              "       width=\"24px\">\n",
              "    <path d=\"M0 0h24v24H0V0z\" fill=\"none\"/>\n",
              "    <path d=\"M18.56 5.44l.94 2.06.94-2.06 2.06-.94-2.06-.94-.94-2.06-.94 2.06-2.06.94zm-11 1L8.5 8.5l.94-2.06 2.06-.94-2.06-.94L8.5 2.5l-.94 2.06-2.06.94zm10 10l.94 2.06.94-2.06 2.06-.94-2.06-.94-.94-2.06-.94 2.06-2.06.94z\"/><path d=\"M17.41 7.96l-1.37-1.37c-.4-.4-.92-.59-1.43-.59-.52 0-1.04.2-1.43.59L10.3 9.45l-7.72 7.72c-.78.78-.78 2.05 0 2.83L4 21.41c.39.39.9.59 1.41.59.51 0 1.02-.2 1.41-.59l7.78-7.78 2.81-2.81c.8-.78.8-2.07 0-2.86zM5.41 20L4 18.59l7.72-7.72 1.47 1.35L5.41 20z\"/>\n",
              "  </svg>\n",
              "      </button>\n",
              "      \n",
              "  <style>\n",
              "    .colab-df-container {\n",
              "      display:flex;\n",
              "      flex-wrap:wrap;\n",
              "      gap: 12px;\n",
              "    }\n",
              "\n",
              "    .colab-df-convert {\n",
              "      background-color: #E8F0FE;\n",
              "      border: none;\n",
              "      border-radius: 50%;\n",
              "      cursor: pointer;\n",
              "      display: none;\n",
              "      fill: #1967D2;\n",
              "      height: 32px;\n",
              "      padding: 0 0 0 0;\n",
              "      width: 32px;\n",
              "    }\n",
              "\n",
              "    .colab-df-convert:hover {\n",
              "      background-color: #E2EBFA;\n",
              "      box-shadow: 0px 1px 2px rgba(60, 64, 67, 0.3), 0px 1px 3px 1px rgba(60, 64, 67, 0.15);\n",
              "      fill: #174EA6;\n",
              "    }\n",
              "\n",
              "    [theme=dark] .colab-df-convert {\n",
              "      background-color: #3B4455;\n",
              "      fill: #D2E3FC;\n",
              "    }\n",
              "\n",
              "    [theme=dark] .colab-df-convert:hover {\n",
              "      background-color: #434B5C;\n",
              "      box-shadow: 0px 1px 3px 1px rgba(0, 0, 0, 0.15);\n",
              "      filter: drop-shadow(0px 1px 2px rgba(0, 0, 0, 0.3));\n",
              "      fill: #FFFFFF;\n",
              "    }\n",
              "  </style>\n",
              "\n",
              "      <script>\n",
              "        const buttonEl =\n",
              "          document.querySelector('#df-7c399740-7a41-4df8-be75-71c0c9755603 button.colab-df-convert');\n",
              "        buttonEl.style.display =\n",
              "          google.colab.kernel.accessAllowed ? 'block' : 'none';\n",
              "\n",
              "        async function convertToInteractive(key) {\n",
              "          const element = document.querySelector('#df-7c399740-7a41-4df8-be75-71c0c9755603');\n",
              "          const dataTable =\n",
              "            await google.colab.kernel.invokeFunction('convertToInteractive',\n",
              "                                                     [key], {});\n",
              "          if (!dataTable) return;\n",
              "\n",
              "          const docLinkHtml = 'Like what you see? Visit the ' +\n",
              "            '<a target=\"_blank\" href=https://colab.research.google.com/notebooks/data_table.ipynb>data table notebook</a>'\n",
              "            + ' to learn more about interactive tables.';\n",
              "          element.innerHTML = '';\n",
              "          dataTable['output_type'] = 'display_data';\n",
              "          await google.colab.output.renderOutput(dataTable, element);\n",
              "          const docLink = document.createElement('div');\n",
              "          docLink.innerHTML = docLinkHtml;\n",
              "          element.appendChild(docLink);\n",
              "        }\n",
              "      </script>\n",
              "    </div>\n",
              "  </div>\n",
              "  "
            ]
          },
          "metadata": {},
          "execution_count": 109
        }
      ]
    },
    {
      "cell_type": "code",
      "source": [
        "greater_1999.info() #to view the information about the new dataset"
      ],
      "metadata": {
        "colab": {
          "base_uri": "https://localhost:8080/"
        },
        "id": "srPG9_7TKN-i",
        "outputId": "f8f3c483-eeca-4c33-c7f3-9b0f2541d861"
      },
      "execution_count": 118,
      "outputs": [
        {
          "output_type": "stream",
          "name": "stdout",
          "text": [
            "<class 'pandas.core.frame.DataFrame'>\n",
            "Int64Index: 399921 entries, 0 to 402004\n",
            "Data columns (total 12 columns):\n",
            " #   Column                 Non-Null Count   Dtype  \n",
            "---  ------                 --------------   -----  \n",
            " 0   public_reference       399921 non-null  int64  \n",
            " 1   mileage                399797 non-null  float64\n",
            " 2   reg_code               368139 non-null  object \n",
            " 3   standard_colour        394721 non-null  object \n",
            " 4   standard_make          399921 non-null  object \n",
            " 5   standard_model         399921 non-null  object \n",
            " 6   vehicle_condition      399921 non-null  object \n",
            " 7   year_of_registration   399921 non-null  int64  \n",
            " 8   price                  399921 non-null  int64  \n",
            " 9   body_type              399139 non-null  object \n",
            " 10  crossover_car_and_van  399921 non-null  bool   \n",
            " 11  fuel_type              399350 non-null  object \n",
            "dtypes: bool(1), float64(1), int64(3), object(7)\n",
            "memory usage: 37.0+ MB\n"
          ]
        }
      ]
    },
    {
      "cell_type": "code",
      "source": [
        "greater_1999.isna().sum() #to see the numbers of missiong values in the new dataset"
      ],
      "metadata": {
        "colab": {
          "base_uri": "https://localhost:8080/"
        },
        "id": "kuIuHFiMERd8",
        "outputId": "0fa25818-0aa6-4436-c650-0010c32ceb26"
      },
      "execution_count": 117,
      "outputs": [
        {
          "output_type": "execute_result",
          "data": {
            "text/plain": [
              "public_reference             0\n",
              "mileage                    124\n",
              "reg_code                 31782\n",
              "standard_colour           5200\n",
              "standard_make                0\n",
              "standard_model               0\n",
              "vehicle_condition            0\n",
              "year_of_registration         0\n",
              "price                        0\n",
              "body_type                  782\n",
              "crossover_car_and_van        0\n",
              "fuel_type                  571\n",
              "dtype: int64"
            ]
          },
          "metadata": {},
          "execution_count": 117
        }
      ]
    },
    {
      "cell_type": "markdown",
      "source": [
        "From inspection of the dataset "
      ],
      "metadata": {
        "id": "J3A5tdbjiA4b"
      }
    },
    {
      "cell_type": "code",
      "source": [
        "year_nan = df.loc[df['year_of_registration'].isna()]\n",
        "year_nan.head()"
      ],
      "metadata": {
        "colab": {
          "base_uri": "https://localhost:8080/",
          "height": 49
        },
        "id": "wdx8XucpuFxD",
        "outputId": "50607971-727f-4af4-9ed7-3d8e0afab1c2"
      },
      "execution_count": 111,
      "outputs": [
        {
          "output_type": "execute_result",
          "data": {
            "text/plain": [
              "Empty DataFrame\n",
              "Columns: [public_reference, mileage, reg_code, standard_colour, standard_make, standard_model, vehicle_condition, year_of_registration, price, body_type, crossover_car_and_van, fuel_type]\n",
              "Index: []"
            ],
            "text/html": [
              "\n",
              "  <div id=\"df-504dc50c-4837-4fd0-a688-8b437f28b4ff\">\n",
              "    <div class=\"colab-df-container\">\n",
              "      <div>\n",
              "<style scoped>\n",
              "    .dataframe tbody tr th:only-of-type {\n",
              "        vertical-align: middle;\n",
              "    }\n",
              "\n",
              "    .dataframe tbody tr th {\n",
              "        vertical-align: top;\n",
              "    }\n",
              "\n",
              "    .dataframe thead th {\n",
              "        text-align: right;\n",
              "    }\n",
              "</style>\n",
              "<table border=\"1\" class=\"dataframe\">\n",
              "  <thead>\n",
              "    <tr style=\"text-align: right;\">\n",
              "      <th></th>\n",
              "      <th>public_reference</th>\n",
              "      <th>mileage</th>\n",
              "      <th>reg_code</th>\n",
              "      <th>standard_colour</th>\n",
              "      <th>standard_make</th>\n",
              "      <th>standard_model</th>\n",
              "      <th>vehicle_condition</th>\n",
              "      <th>year_of_registration</th>\n",
              "      <th>price</th>\n",
              "      <th>body_type</th>\n",
              "      <th>crossover_car_and_van</th>\n",
              "      <th>fuel_type</th>\n",
              "    </tr>\n",
              "  </thead>\n",
              "  <tbody>\n",
              "  </tbody>\n",
              "</table>\n",
              "</div>\n",
              "      <button class=\"colab-df-convert\" onclick=\"convertToInteractive('df-504dc50c-4837-4fd0-a688-8b437f28b4ff')\"\n",
              "              title=\"Convert this dataframe to an interactive table.\"\n",
              "              style=\"display:none;\">\n",
              "        \n",
              "  <svg xmlns=\"http://www.w3.org/2000/svg\" height=\"24px\"viewBox=\"0 0 24 24\"\n",
              "       width=\"24px\">\n",
              "    <path d=\"M0 0h24v24H0V0z\" fill=\"none\"/>\n",
              "    <path d=\"M18.56 5.44l.94 2.06.94-2.06 2.06-.94-2.06-.94-.94-2.06-.94 2.06-2.06.94zm-11 1L8.5 8.5l.94-2.06 2.06-.94-2.06-.94L8.5 2.5l-.94 2.06-2.06.94zm10 10l.94 2.06.94-2.06 2.06-.94-2.06-.94-.94-2.06-.94 2.06-2.06.94z\"/><path d=\"M17.41 7.96l-1.37-1.37c-.4-.4-.92-.59-1.43-.59-.52 0-1.04.2-1.43.59L10.3 9.45l-7.72 7.72c-.78.78-.78 2.05 0 2.83L4 21.41c.39.39.9.59 1.41.59.51 0 1.02-.2 1.41-.59l7.78-7.78 2.81-2.81c.8-.78.8-2.07 0-2.86zM5.41 20L4 18.59l7.72-7.72 1.47 1.35L5.41 20z\"/>\n",
              "  </svg>\n",
              "      </button>\n",
              "      \n",
              "  <style>\n",
              "    .colab-df-container {\n",
              "      display:flex;\n",
              "      flex-wrap:wrap;\n",
              "      gap: 12px;\n",
              "    }\n",
              "\n",
              "    .colab-df-convert {\n",
              "      background-color: #E8F0FE;\n",
              "      border: none;\n",
              "      border-radius: 50%;\n",
              "      cursor: pointer;\n",
              "      display: none;\n",
              "      fill: #1967D2;\n",
              "      height: 32px;\n",
              "      padding: 0 0 0 0;\n",
              "      width: 32px;\n",
              "    }\n",
              "\n",
              "    .colab-df-convert:hover {\n",
              "      background-color: #E2EBFA;\n",
              "      box-shadow: 0px 1px 2px rgba(60, 64, 67, 0.3), 0px 1px 3px 1px rgba(60, 64, 67, 0.15);\n",
              "      fill: #174EA6;\n",
              "    }\n",
              "\n",
              "    [theme=dark] .colab-df-convert {\n",
              "      background-color: #3B4455;\n",
              "      fill: #D2E3FC;\n",
              "    }\n",
              "\n",
              "    [theme=dark] .colab-df-convert:hover {\n",
              "      background-color: #434B5C;\n",
              "      box-shadow: 0px 1px 3px 1px rgba(0, 0, 0, 0.15);\n",
              "      filter: drop-shadow(0px 1px 2px rgba(0, 0, 0, 0.3));\n",
              "      fill: #FFFFFF;\n",
              "    }\n",
              "  </style>\n",
              "\n",
              "      <script>\n",
              "        const buttonEl =\n",
              "          document.querySelector('#df-504dc50c-4837-4fd0-a688-8b437f28b4ff button.colab-df-convert');\n",
              "        buttonEl.style.display =\n",
              "          google.colab.kernel.accessAllowed ? 'block' : 'none';\n",
              "\n",
              "        async function convertToInteractive(key) {\n",
              "          const element = document.querySelector('#df-504dc50c-4837-4fd0-a688-8b437f28b4ff');\n",
              "          const dataTable =\n",
              "            await google.colab.kernel.invokeFunction('convertToInteractive',\n",
              "                                                     [key], {});\n",
              "          if (!dataTable) return;\n",
              "\n",
              "          const docLinkHtml = 'Like what you see? Visit the ' +\n",
              "            '<a target=\"_blank\" href=https://colab.research.google.com/notebooks/data_table.ipynb>data table notebook</a>'\n",
              "            + ' to learn more about interactive tables.';\n",
              "          element.innerHTML = '';\n",
              "          dataTable['output_type'] = 'display_data';\n",
              "          await google.colab.output.renderOutput(dataTable, element);\n",
              "          const docLink = document.createElement('div');\n",
              "          docLink.innerHTML = docLinkHtml;\n",
              "          element.appendChild(docLink);\n",
              "        }\n",
              "      </script>\n",
              "    </div>\n",
              "  </div>\n",
              "  "
            ]
          },
          "metadata": {},
          "execution_count": 111
        }
      ]
    },
    {
      "cell_type": "code",
      "source": [
        "sns.histplot(data=year_nan, y='vehicle_condition')"
      ],
      "metadata": {
        "colab": {
          "base_uri": "https://localhost:8080/",
          "height": 286
        },
        "id": "qI6rfw-yy8_Z",
        "outputId": "422512bb-8f35-48ed-cb82-ac4110492d0a"
      },
      "execution_count": 112,
      "outputs": [
        {
          "output_type": "execute_result",
          "data": {
            "text/plain": [
              "<matplotlib.axes._subplots.AxesSubplot at 0x7f92fe517730>"
            ]
          },
          "metadata": {},
          "execution_count": 112
        },
        {
          "output_type": "display_data",
          "data": {
            "text/plain": [
              "<Figure size 432x288 with 1 Axes>"
            ],
            "image/png": "[encoded data removed]"
          },
          "metadata": {
            "needs_background": "light"
          }
        }
      ]
    },
    {
      "cell_type": "markdown",
      "source": [
        "The histogram showing the distribution of vehicle condition New/Old in NaN year value shows that not all vehicles with NaN year value are New. As some Old vehicle are also represented. We can assume that the vehicles whose registration code are all NaN  "
      ],
      "metadata": {
        "id": "XJvG6ROlTGGL"
      }
    },
    {
      "cell_type": "code",
      "source": [
        "year_less_than_2000.shape"
      ],
      "metadata": {
        "colab": {
          "base_uri": "https://localhost:8080/"
        },
        "id": "xy_g1dWDGy6r",
        "outputId": "1f2bb5f7-6c22-4174-b6e7-fbd3228c249f"
      },
      "execution_count": 113,
      "outputs": [
        {
          "output_type": "execute_result",
          "data": {
            "text/plain": [
              "(2084, 12)"
            ]
          },
          "metadata": {},
          "execution_count": 113
        }
      ]
    },
    {
      "cell_type": "markdown",
      "source": [
        "Vehicles with year of registration less than 2000 can be dropped as they are not of high importance to the dataset considering they are just 2084 rows."
      ],
      "metadata": {
        "id": "wviPCBbrPbcb"
      }
    },
    {
      "cell_type": "markdown",
      "source": [
        "Now we will visualize the dataframe of year greater 2000 to better see the distribution."
      ],
      "metadata": {
        "id": "vDyE3wM_PMlC"
      }
    },
    {
      "cell_type": "code",
      "source": [
        "sns.histplot(data=year_greater_than_2000, x=\"year_of_registration\", binwidth=3)"
      ],
      "metadata": {
        "colab": {
          "base_uri": "https://localhost:8080/",
          "height": 297
        },
        "id": "41vELAOUIj1B",
        "outputId": "e6816efd-c944-43c2-fc52-3343d3a3ed83"
      },
      "execution_count": 114,
      "outputs": [
        {
          "output_type": "execute_result",
          "data": {
            "text/plain": [
              "<matplotlib.axes._subplots.AxesSubplot at 0x7f9338b7d3a0>"
            ]
          },
          "metadata": {},
          "execution_count": 114
        },
        {
          "output_type": "display_data",
          "data": {
            "text/plain": [
              "<Figure size 432x288 with 1 Axes>"
            ],
            "image/png": "[encoded data removed]"
          },
          "metadata": {
            "needs_background": "light"
          }
        }
      ]
    },
    {
      "cell_type": "markdown",
      "source": [
        "From earlier inspection of the column year of registration, we noticed that some rows are filled with NaN, we have to see the correlation with other columns in the table.\n"
      ],
      "metadata": {
        "id": "paeKHYIyrJIp"
      }
    },
    {
      "cell_type": "code",
      "source": [
        "year_greater_than_2000['year_of_registration'].unique()"
      ],
      "metadata": {
        "colab": {
          "base_uri": "https://localhost:8080/"
        },
        "id": "_fxgjeDiPI-O",
        "outputId": "ba287853-049a-42bc-af6f-d7c69a6ada52"
      },
      "execution_count": 115,
      "outputs": [
        {
          "output_type": "execute_result",
          "data": {
            "text/plain": [
              "array([2021, 2011, 2017, 2016, 2015, 2013, 2008, 2019, 2010, 2012, 2018,\n",
              "       2009, 2014, 2003, 2006, 2020, 2005, 2002, 2007, 2004, 2001])"
            ]
          },
          "metadata": {},
          "execution_count": 115
        }
      ]
    },
    {
      "cell_type": "code",
      "source": [
        "year_greater_than_2000.head()"
      ],
      "metadata": {
        "id": "0J9NDXmxIdyu",
        "colab": {
          "base_uri": "https://localhost:8080/",
          "height": 206
        },
        "outputId": "2749f0d1-1f53-45c4-c27b-a94f5fad9659"
      },
      "execution_count": 116,
      "outputs": [
        {
          "output_type": "execute_result",
          "data": {
            "text/plain": [
              "   public_reference   mileage reg_code standard_colour standard_make  \\\n",
              "0   202006039777689       0.0      NaN            Grey         Volvo   \n",
              "1   202007020778260  108230.0       61            Blue        Jaguar   \n",
              "2   202007020778474    7800.0       17            Grey         SKODA   \n",
              "3   202007080986776   45000.0       16           Brown      Vauxhall   \n",
              "4   202007161321269   64000.0       64            Grey    Land Rover   \n",
              "\n",
              "      standard_model vehicle_condition  year_of_registration  price  \\\n",
              "0               XC90               NEW                  2021  73970   \n",
              "1                 XF              USED                  2011   7000   \n",
              "2               Yeti              USED                  2017  14000   \n",
              "3              Mokka              USED                  2016   7995   \n",
              "4  Range Rover Sport              USED                  2015  26995   \n",
              "\n",
              "   body_type  crossover_car_and_van              fuel_type  \n",
              "0        SUV                  False  Petrol Plug-in Hybrid  \n",
              "1     Saloon                  False                 Diesel  \n",
              "2        SUV                  False                 Petrol  \n",
              "3  Hatchback                  False                 Diesel  \n",
              "4        SUV                  False                 Diesel  "
            ],
            "text/html": [
              "\n",
              "  <div id=\"df-ddfcb38e-3dad-438b-9069-18d86e62aebb\">\n",
              "    <div class=\"colab-df-container\">\n",
              "      <div>\n",
              "<style scoped>\n",
              "    .dataframe tbody tr th:only-of-type {\n",
              "        vertical-align: middle;\n",
              "    }\n",
              "\n",
              "    .dataframe tbody tr th {\n",
              "        vertical-align: top;\n",
              "    }\n",
              "\n",
              "    .dataframe thead th {\n",
              "        text-align: right;\n",
              "    }\n",
              "</style>\n",
              "<table border=\"1\" class=\"dataframe\">\n",
              "  <thead>\n",
              "    <tr style=\"text-align: right;\">\n",
              "      <th></th>\n",
              "      <th>public_reference</th>\n",
              "      <th>mileage</th>\n",
              "      <th>reg_code</th>\n",
              "      <th>standard_colour</th>\n",
              "      <th>standard_make</th>\n",
              "      <th>standard_model</th>\n",
              "      <th>vehicle_condition</th>\n",
              "      <th>year_of_registration</th>\n",
              "      <th>price</th>\n",
              "      <th>body_type</th>\n",
              "      <th>crossover_car_and_van</th>\n",
              "      <th>fuel_type</th>\n",
              "    </tr>\n",
              "  </thead>\n",
              "  <tbody>\n",
              "    <tr>\n",
              "      <th>0</th>\n",
              "      <td>202006039777689</td>\n",
              "      <td>0.0</td>\n",
              "      <td>NaN</td>\n",
              "      <td>Grey</td>\n",
              "      <td>Volvo</td>\n",
              "      <td>XC90</td>\n",
              "      <td>NEW</td>\n",
              "      <td>2021</td>\n",
              "      <td>73970</td>\n",
              "      <td>SUV</td>\n",
              "      <td>False</td>\n",
              "      <td>Petrol Plug-in Hybrid</td>\n",
              "    </tr>\n",
              "    <tr>\n",
              "      <th>1</th>\n",
              "      <td>202007020778260</td>\n",
              "      <td>108230.0</td>\n",
              "      <td>61</td>\n",
              "      <td>Blue</td>\n",
              "      <td>Jaguar</td>\n",
              "      <td>XF</td>\n",
              "      <td>USED</td>\n",
              "      <td>2011</td>\n",
              "      <td>7000</td>\n",
              "      <td>Saloon</td>\n",
              "      <td>False</td>\n",
              "      <td>Diesel</td>\n",
              "    </tr>\n",
              "    <tr>\n",
              "      <th>2</th>\n",
              "      <td>202007020778474</td>\n",
              "      <td>7800.0</td>\n",
              "      <td>17</td>\n",
              "      <td>Grey</td>\n",
              "      <td>SKODA</td>\n",
              "      <td>Yeti</td>\n",
              "      <td>USED</td>\n",
              "      <td>2017</td>\n",
              "      <td>14000</td>\n",
              "      <td>SUV</td>\n",
              "      <td>False</td>\n",
              "      <td>Petrol</td>\n",
              "    </tr>\n",
              "    <tr>\n",
              "      <th>3</th>\n",
              "      <td>202007080986776</td>\n",
              "      <td>45000.0</td>\n",
              "      <td>16</td>\n",
              "      <td>Brown</td>\n",
              "      <td>Vauxhall</td>\n",
              "      <td>Mokka</td>\n",
              "      <td>USED</td>\n",
              "      <td>2016</td>\n",
              "      <td>7995</td>\n",
              "      <td>Hatchback</td>\n",
              "      <td>False</td>\n",
              "      <td>Diesel</td>\n",
              "    </tr>\n",
              "    <tr>\n",
              "      <th>4</th>\n",
              "      <td>202007161321269</td>\n",
              "      <td>64000.0</td>\n",
              "      <td>64</td>\n",
              "      <td>Grey</td>\n",
              "      <td>Land Rover</td>\n",
              "      <td>Range Rover Sport</td>\n",
              "      <td>USED</td>\n",
              "      <td>2015</td>\n",
              "      <td>26995</td>\n",
              "      <td>SUV</td>\n",
              "      <td>False</td>\n",
              "      <td>Diesel</td>\n",
              "    </tr>\n",
              "  </tbody>\n",
              "</table>\n",
              "</div>\n",
              "      <button class=\"colab-df-convert\" onclick=\"convertToInteractive('df-ddfcb38e-3dad-438b-9069-18d86e62aebb')\"\n",
              "              title=\"Convert this dataframe to an interactive table.\"\n",
              "              style=\"display:none;\">\n",
              "        \n",
              "  <svg xmlns=\"http://www.w3.org/2000/svg\" height=\"24px\"viewBox=\"0 0 24 24\"\n",
              "       width=\"24px\">\n",
              "    <path d=\"M0 0h24v24H0V0z\" fill=\"none\"/>\n",
              "    <path d=\"M18.56 5.44l.94 2.06.94-2.06 2.06-.94-2.06-.94-.94-2.06-.94 2.06-2.06.94zm-11 1L8.5 8.5l.94-2.06 2.06-.94-2.06-.94L8.5 2.5l-.94 2.06-2.06.94zm10 10l.94 2.06.94-2.06 2.06-.94-2.06-.94-.94-2.06-.94 2.06-2.06.94z\"/><path d=\"M17.41 7.96l-1.37-1.37c-.4-.4-.92-.59-1.43-.59-.52 0-1.04.2-1.43.59L10.3 9.45l-7.72 7.72c-.78.78-.78 2.05 0 2.83L4 21.41c.39.39.9.59 1.41.59.51 0 1.02-.2 1.41-.59l7.78-7.78 2.81-2.81c.8-.78.8-2.07 0-2.86zM5.41 20L4 18.59l7.72-7.72 1.47 1.35L5.41 20z\"/>\n",
              "  </svg>\n",
              "      </button>\n",
              "      \n",
              "  <style>\n",
              "    .colab-df-container {\n",
              "      display:flex;\n",
              "      flex-wrap:wrap;\n",
              "      gap: 12px;\n",
              "    }\n",
              "\n",
              "    .colab-df-convert {\n",
              "      background-color: #E8F0FE;\n",
              "      border: none;\n",
              "      border-radius: 50%;\n",
              "      cursor: pointer;\n",
              "      display: none;\n",
              "      fill: #1967D2;\n",
              "      height: 32px;\n",
              "      padding: 0 0 0 0;\n",
              "      width: 32px;\n",
              "    }\n",
              "\n",
              "    .colab-df-convert:hover {\n",
              "      background-color: #E2EBFA;\n",
              "      box-shadow: 0px 1px 2px rgba(60, 64, 67, 0.3), 0px 1px 3px 1px rgba(60, 64, 67, 0.15);\n",
              "      fill: #174EA6;\n",
              "    }\n",
              "\n",
              "    [theme=dark] .colab-df-convert {\n",
              "      background-color: #3B4455;\n",
              "      fill: #D2E3FC;\n",
              "    }\n",
              "\n",
              "    [theme=dark] .colab-df-convert:hover {\n",
              "      background-color: #434B5C;\n",
              "      box-shadow: 0px 1px 3px 1px rgba(0, 0, 0, 0.15);\n",
              "      filter: drop-shadow(0px 1px 2px rgba(0, 0, 0, 0.3));\n",
              "      fill: #FFFFFF;\n",
              "    }\n",
              "  </style>\n",
              "\n",
              "      <script>\n",
              "        const buttonEl =\n",
              "          document.querySelector('#df-ddfcb38e-3dad-438b-9069-18d86e62aebb button.colab-df-convert');\n",
              "        buttonEl.style.display =\n",
              "          google.colab.kernel.accessAllowed ? 'block' : 'none';\n",
              "\n",
              "        async function convertToInteractive(key) {\n",
              "          const element = document.querySelector('#df-ddfcb38e-3dad-438b-9069-18d86e62aebb');\n",
              "          const dataTable =\n",
              "            await google.colab.kernel.invokeFunction('convertToInteractive',\n",
              "                                                     [key], {});\n",
              "          if (!dataTable) return;\n",
              "\n",
              "          const docLinkHtml = 'Like what you see? Visit the ' +\n",
              "            '<a target=\"_blank\" href=https://colab.research.google.com/notebooks/data_table.ipynb>data table notebook</a>'\n",
              "            + ' to learn more about interactive tables.';\n",
              "          element.innerHTML = '';\n",
              "          dataTable['output_type'] = 'display_data';\n",
              "          await google.colab.output.renderOutput(dataTable, element);\n",
              "          const docLink = document.createElement('div');\n",
              "          docLink.innerHTML = docLinkHtml;\n",
              "          element.appendChild(docLink);\n",
              "        }\n",
              "      </script>\n",
              "    </div>\n",
              "  </div>\n",
              "  "
            ]
          },
          "metadata": {},
          "execution_count": 116
        }
      ]
    }
  ]
}